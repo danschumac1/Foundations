{
 "cells": [
  {
   "cell_type": "code",
   "execution_count": 3,
   "id": "f3c1003f",
   "metadata": {},
   "outputs": [
    {
     "name": "stdout",
     "output_type": "stream",
     "text": [
      "1 2 3\n"
     ]
    }
   ],
   "source": [
    "lst = [1,2,3]\n",
    "print(*lst)"
   ]
  },
  {
   "cell_type": "code",
   "execution_count": 6,
   "id": "56a08c6b",
   "metadata": {},
   "outputs": [],
   "source": [
    "import re\n",
    "result = re.findall('^[dp]an','pan is here')\n"
   ]
  },
  {
   "cell_type": "code",
   "execution_count": 11,
   "id": "2ad6a7c9",
   "metadata": {},
   "outputs": [
    {
     "name": "stdout",
     "output_type": "stream",
     "text": [
      "['rios@utsa.edu'] ['@utsa$edu'] ['anthonyrios@utsa#edu'] []\n"
     ]
    }
   ],
   "source": [
    "result1 = re.findall('[a-z]*@[A-Za-z0-9]+.edu','anthony.rios@utsa.edu')\n",
    "result2 = re.findall('[a-z]*@[A-Za-z0-9]+.edu','@utsa$edu')\n",
    "result3 = re.findall('[a-z]*@[A-Za-z0-9]+.edu','anthonyrios@utsa#edu')\n",
    "result4 = re.findall('[a-z]*@[A-Za-z0-9]+.edu','anthonyrios@.edu')\n",
    "\n",
    "print(result1,result2,result3,result4)"
   ]
  },
  {
   "cell_type": "code",
   "execution_count": 9,
   "id": "91d117da",
   "metadata": {},
   "outputs": [
    {
     "data": {
      "text/plain": [
       "['Go Bengals']"
      ]
     },
     "execution_count": 9,
     "metadata": {},
     "output_type": "execute_result"
    }
   ],
   "source": [
    "result = re.findall('^Go.*','Go Bengals')\n",
    "result"
   ]
  },
  {
   "cell_type": "code",
   "execution_count": null,
   "id": "2add9943",
   "metadata": {},
   "outputs": [],
   "source": []
  }
 ],
 "metadata": {
  "hide_input": false,
  "kernelspec": {
   "display_name": "Python 3 (ipykernel)",
   "language": "python",
   "name": "python3"
  },
  "language_info": {
   "codemirror_mode": {
    "name": "ipython",
    "version": 3
   },
   "file_extension": ".py",
   "mimetype": "text/x-python",
   "name": "python",
   "nbconvert_exporter": "python",
   "pygments_lexer": "ipython3",
   "version": "3.9.12"
  }
 },
 "nbformat": 4,
 "nbformat_minor": 5
}
