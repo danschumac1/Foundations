{
 "cells": [
  {
   "cell_type": "markdown",
   "id": "3c445dc4-5f04-4e30-ace7-4b7012b0b24b",
   "metadata": {},
   "source": [
    "# NOTES"
   ]
  },
  {
   "cell_type": "code",
   "execution_count": null,
   "id": "22dea71b-5e3d-4e34-9fcc-cecccb1b9a63",
   "metadata": {},
   "outputs": [],
   "source": [
    "# Functions\n",
    "\n",
    "## Function definitions\n",
    "\n",
    "\n",
    "## Function Parameters\n",
    "\n",
    "\n",
    "## Extra: Default Parameters"
   ]
  },
  {
   "cell_type": "code",
   "execution_count": null,
   "id": "79ac4eb4-e6e0-419b-9d16-e77b75184b70",
   "metadata": {},
   "outputs": [],
   "source": [
    "# Asserts"
   ]
  },
  {
   "cell_type": "code",
   "execution_count": null,
   "id": "68d00b48-968c-4613-905b-fafbf89ae0e2",
   "metadata": {},
   "outputs": [],
   "source": [
    "# Reading Files"
   ]
  },
  {
   "cell_type": "code",
   "execution_count": null,
   "id": "6f6ffb64-48c1-4250-a3b3-42c3bb47607f",
   "metadata": {},
   "outputs": [],
   "source": [
    "# Writing Files"
   ]
  },
  {
   "cell_type": "code",
   "execution_count": null,
   "id": "3a3201f2-c679-47a4-bd7b-3ccc3636c33a",
   "metadata": {},
   "outputs": [],
   "source": [
    "# Appending to Files"
   ]
  },
  {
   "cell_type": "code",
   "execution_count": null,
   "id": "d2ff3b2d-812a-47a4-bd8d-c816a3d7b324",
   "metadata": {},
   "outputs": [],
   "source": [
    "# Encodings\n",
    "\n",
    "## Get encoding local machine: .getpreferredencoding()\n",
    "\n",
    "import locale\n",
    "\n",
    "##  .isascii() ✔️\n",
    "\n",
    "## Files and encodings"
   ]
  },
  {
   "cell_type": "code",
   "execution_count": null,
   "id": "c0ceb9d7-e206-40fe-93e9-401e3fcce552",
   "metadata": {},
   "outputs": [],
   "source": [
    "# Sets\n",
    "\n",
    "## Creating Sets\n",
    "\n",
    "## Adding items to sets\n",
    "\n",
    "## Removing items from sets\n",
    "\n",
    "## Union\n",
    "\n",
    "## Intersection\n",
    "\n"
   ]
  },
  {
   "cell_type": "markdown",
   "id": "f781180b-327b-4e1e-840c-7ebebcd592e1",
   "metadata": {},
   "source": [
    "# Exercise 1\n",
    "\n",
    "Write a function that returns that calculates the mean squared error between two lists of numbers:\n",
    "\n",
    "$error = \\frac{1}{N} \\sum_{i=1}^N (x_i - y_i)^2$\n",
    "\n",
    "**HINT:** You can loop over the items in x and y using \"for x1, y1 in zip(x,y):\" or using an index with \"for i in range(len(x))\"---we will assume x and y are the same size."
   ]
  },
  {
   "cell_type": "code",
   "execution_count": 12,
   "id": "98cae7e2-01b2-432e-b052-adb309b80380",
   "metadata": {},
   "outputs": [],
   "source": [
    "def mse(x, y):\n",
    "    total = 0\n",
    "        \n",
    "#     for i in range(len(x)):\n",
    "#         total += (y[i]-x[i])**2\n",
    "\n",
    "#     error = total/len(x)\n",
    "    \n",
    "    for x1,y1 in zip(x,y):\n",
    "        total += (y1-x1)**2\n",
    "        \n",
    "    error = total/len(x)\n",
    "    \n",
    "    \n",
    "    \n",
    "    \n",
    "    \"\"\"\n",
    "        Returns the mean squared error between x and y\n",
    "    \n",
    "        parameters:\n",
    "            x list: x is a list of numbers, e.g., [1,2,3]\n",
    "            y list: y is a list of numbers, e.g., [3,4,5]\n",
    "\n",
    "        return float: A number should be returned\n",
    "    \"\"\"\n",
    "    # WRITE CODE HERE\n",
    "    return error"
   ]
  },
  {
   "cell_type": "code",
   "execution_count": 13,
   "id": "ae603b9d-1771-4df7-a1fa-54c0419d72c3",
   "metadata": {},
   "outputs": [
    {
     "name": "stdout",
     "output_type": "stream",
     "text": [
      "4.0\n"
     ]
    }
   ],
   "source": [
    "vec1 = [1,2,3]\n",
    "vec2 = [3,4,5]\n",
    "error = mse(vec1, vec2)\n",
    "\n",
    "print(error)"
   ]
  },
  {
   "cell_type": "markdown",
   "id": "9802ce18-4d6e-4996-ada1-c3c84bf94c1e",
   "metadata": {},
   "source": [
    "# Exercise 2\n",
    "\n",
    "Loop over the book (file) \"alice_in_wonderland.txt\" and write code to answer the following questions:\n",
    "1. How many words are in the file?\n",
    "    - HINT: You can use .strip() to split each line into a list of words. Then, you can count each item in the list as a word.\n",
    "2. How many unique words are in the file (with and without lowercasing all words, i.e., you will get two counts here)?\n",
    "    - HINT: Create a set of words that you will use to store unique words, then you can take the len() of the set after looping over the entire file.\n",
    "3. How many chapters are in the file? Write code to check this :) \n",
    "    - HINT: Check for \"CHAPTERS \" \n",
    "\n",
    "**TIME:** 10 Minutes"
   ]
  },
  {
   "cell_type": "code",
   "execution_count": 26,
   "id": "bc7d8750-c786-43da-94cd-9129cf1f11b9",
   "metadata": {},
   "outputs": [
    {
     "name": "stdout",
     "output_type": "stream",
     "text": [
      "26470\n"
     ]
    }
   ],
   "source": [
    "alice = open('alice_in_wonderland.txt', 'r')\n",
    "wordcount = 0\n",
    "for line in alice:\n",
    "    aliceline = line.split()\n",
    "    wordcount += len(aliceline)\n",
    "    \n",
    "print(wordcount)\n",
    "alice.close()"
   ]
  },
  {
   "cell_type": "code",
   "execution_count": 32,
   "id": "96558193",
   "metadata": {},
   "outputs": [
    {
     "name": "stdout",
     "output_type": "stream",
     "text": [
      "4988\n"
     ]
    }
   ],
   "source": [
    "myFile = open('alice_in_wonderland.txt', 'r')\n",
    "alice = myFile.read()\n",
    "\n",
    "words = alice.lower().split()\n",
    "unique\n",
    "print(len(uniquewords))\n",
    "myFile.close()"
   ]
  },
  {
   "cell_type": "code",
   "execution_count": 27,
   "id": "e74f7b6c",
   "metadata": {},
   "outputs": [
    {
     "name": "stdout",
     "output_type": "stream",
     "text": [
      "4950\n"
     ]
    }
   ],
   "source": [
    "alice = open('alice_in_wonderland.txt', 'r')\n",
    "uniquewords = set()\n",
    "\n",
    "for line in alice:\n",
    "    aliceline = line.strip().lower().split()\n",
    "    \n",
    "    for word in aliceline:\n",
    "        uniquewords.add(word)\n",
    "    \n",
    "print(len(uniquewords))\n",
    "alice.close()"
   ]
  },
  {
   "cell_type": "code",
   "execution_count": 28,
   "id": "3e1bfe8b",
   "metadata": {},
   "outputs": [
    {
     "name": "stdout",
     "output_type": "stream",
     "text": [
      "                            CHAPTER I\n",
      "\n",
      "                           CHAPTER II\n",
      "\n",
      "                           CHAPTER III\n",
      "\n",
      "                           CHAPTER IV\n",
      "\n",
      "                            CHAPTER V\n",
      "\n",
      "                           CHAPTER VI\n",
      "\n",
      "                           CHAPTER VII\n",
      "\n",
      "                          CHAPTER VIII\n",
      "\n",
      "                           CHAPTER IX\n",
      "\n",
      "                            CHAPTER X\n",
      "\n",
      "                           CHAPTER XI\n",
      "\n",
      "                           CHAPTER XII\n",
      "\n"
     ]
    }
   ],
   "source": [
    "alice = open('alice_in_wonderland.txt', 'r')\n",
    "\n",
    "for line in alice:\n",
    "    if line.strip().startswith('CHAPTER'):\n",
    "        print(line)\n",
    "\n",
    "alice.close()"
   ]
  },
  {
   "cell_type": "markdown",
   "id": "55e571b7-0b00-4aae-824f-5e61dd362e22",
   "metadata": {
    "tags": []
   },
   "source": [
    "# Exercise 3\n",
    "\n",
    "Lets make the book Alice in Wonderland more interesting. Specifically, lets create a new file call \"anthony_in_wonderland.txt\". We are going to loop over with the following exceptions:\n",
    "\n",
    "1. For every occurrence of the word \"Alice\", replace it with \"Anthony\".\n",
    "    - The basic code construct would be to loop over alice_in_wonderland.txt line-by-line, where you read a line as a string, replace the associated text, then write it to the new file.\n",
    "2. For every occurrence of the word \"rabbit-hole\", replace it with \"burning hole of fire\".\n",
    "3. For the book to be \"cool\", it needs fewer chapters. Only write Chapter 1 to the file \"anthony_in_wonderland.txt\".\n",
    "    - HINT: You can use \"break\" to exit the loop over each line in alice_in_wonderland.txt.\n",
    "    - HINT 2: Check for \"CHAPTER II\"\n",
    "\n",
    "**TIME:** 10 minutes"
   ]
  },
  {
   "cell_type": "code",
   "execution_count": null,
   "id": "cd92d4dd-5497-4929-b4a0-c3fc17b44eda",
   "metadata": {},
   "outputs": [],
   "source": [
    "# WRITE CODE HERE"
   ]
  },
  {
   "cell_type": "markdown",
   "id": "327a2266-2f5f-4ff0-888d-069fb04760c4",
   "metadata": {},
   "source": [
    "# Exercise 4 (EXTRA: If time allows)\n",
    "\n",
    "Im the file alice_in_wonderland.txt, we are going to count the following for each chapter:\n",
    "1. Total number of words (i.e., write code to create a dictionary where each key is a chapter). For example, \"Chapter 1\" and the value is the total number of words in the chapter)\n",
    "2. Count the times that the word 'tea' appears within the text. Store that count in the dictionary total_tea.\n",
    "\n",
    "**GOAL:** Using \"switches\" is a common programming pattern for file io in many data processing tasks. We will explore that here to \"switch\" between chapters\n",
    "\n",
    "**TIME:** 15 minutes"
   ]
  },
  {
   "cell_type": "code",
   "execution_count": null,
   "id": "da947bba-8b30-434b-a4a1-a80387deb989",
   "metadata": {},
   "outputs": [],
   "source": [
    "total_words = {}\n",
    "total_tea = {}\n",
    "current_chapter = None # This is the \"switch\" to tell us which chapter we are in\n",
    "cur_word_total = 0\n",
    "cur_tea_total = 0\n",
    "with open('alice_in_wonderland.txt') as iFile:\n",
    "    for row in iFile:\n",
    "        if \"CHAPTER \" in row:\n",
    "            if current_chapter is not None: # The switch changed, so store totals and set to 0 for next chapter\n",
    "                total_words[current_chapter] = cur_word_total\n",
    "                total_tea[current_chapter] = cur_tea_total\n",
    "                cur_word_total = 0\n",
    "                cur_tea_total = 0\n",
    "                current_chapter = row.strip()\n",
    "            else: # Special case for \"CHAPTER I\"\n",
    "                current_chapter = row.strip()\n",
    "        else:\n",
    "            ############################################################\n",
    "\n",
    "            # 1. Add total count of words in current line to cur_word_total\n",
    "            # 2. Add # times \"tea\" appears to cur_tea_total\n",
    "            \n",
    "            # WRITE CODE HERE\n",
    "            pass # You can replace this line of code when you start adding your own\n",
    "            ############################################################\n",
    "\n",
    "\n",
    "total_words[current_chapter] = cur_word_total # This makes sure we store the counts for the last chapter\n",
    "total_tea[current_chapter] = cur_tea_total"
   ]
  },
  {
   "cell_type": "code",
   "execution_count": null,
   "id": "7bd41ddc-e9f0-4c73-87c8-2ce616e640fb",
   "metadata": {},
   "outputs": [],
   "source": [
    "# DO NOT MODIFY THIS CELL\n",
    "\n",
    "chapters =['CHAPTER I', 'CHAPTER II', 'CHAPTER III', 'CHAPTER IV', 'CHAPTER V',\n",
    " 'CHAPTER VI', 'CHAPTER VII', 'CHAPTER VIII', 'CHAPTER IX', 'CHAPTER X',\n",
    " 'CHAPTER XI', 'CHAPTER XII']\n",
    "\n",
    "prob_data = []\n",
    "for c in chapters:\n",
    "    prob_data.append(total_tea[c]/total_words[c])"
   ]
  },
  {
   "cell_type": "code",
   "execution_count": null,
   "id": "a91958f2-ceb0-4dfb-b652-0abb370f50e1",
   "metadata": {},
   "outputs": [],
   "source": [
    "%matplotlib inline\n",
    "\n",
    "# DO NOTE EDIT THE CODE IN THIS CELL\n",
    "\n",
    "import matplotlib.pyplot as plt\n",
    "\n",
    "plt.plot(chapters, prob_data)\n",
    "plt.title('Mentions of tea')\n",
    "plt.xlabel('Chapter')\n",
    "plt.ylabel('P(\"tea\")')\n",
    "plt.xticks(rotation = 45)\n",
    "plt.show()"
   ]
  }
 ],
 "metadata": {
  "hide_input": false,
  "kernelspec": {
   "display_name": "Python 3 (ipykernel)",
   "language": "python",
   "name": "python3"
  },
  "language_info": {
   "codemirror_mode": {
    "name": "ipython",
    "version": 3
   },
   "file_extension": ".py",
   "mimetype": "text/x-python",
   "name": "python",
   "nbconvert_exporter": "python",
   "pygments_lexer": "ipython3",
   "version": "3.9.12"
  }
 },
 "nbformat": 4,
 "nbformat_minor": 5
}
