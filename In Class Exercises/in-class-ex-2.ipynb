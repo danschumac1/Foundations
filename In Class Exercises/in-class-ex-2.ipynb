{
 "cells": [
  {
   "cell_type": "markdown",
   "id": "16e37db4-35d6-41c0-9d82-fa40c2c1842c",
   "metadata": {},
   "source": [
    "# In-class Exercises\n"
   ]
  },
  {
   "cell_type": "markdown",
   "id": "a7fd069a-dc30-4089-86cc-d5c32da14fa1",
   "metadata": {},
   "source": [
    "## NOTES"
   ]
  },
  {
   "cell_type": "code",
   "execution_count": 1,
   "id": "8ae7505a-a1b9-4e63-a84a-831a1d70d499",
   "metadata": {},
   "outputs": [],
   "source": [
    "# REMINDERS\n",
    "\n",
    "# Numbers (Int and Float) vs. String\n",
    "\n",
    "# In-place"
   ]
  },
  {
   "cell_type": "code",
   "execution_count": 2,
   "id": "3d95b89b-a807-44ee-9b4f-0439cf7a6e39",
   "metadata": {},
   "outputs": [],
   "source": [
    "# Lists\n",
    "\n",
    "## Creating Lists\n",
    "\n",
    "## Indexing Lists\n",
    "\n",
    "## Fancy Indexing Lists\n",
    "\n",
    "## Length of a list"
   ]
  },
  {
   "cell_type": "code",
   "execution_count": 4,
   "id": "a6e86438-8362-4b18-b7a5-a00051cef555",
   "metadata": {},
   "outputs": [
    {
     "name": "stdout",
     "output_type": "stream",
     "text": [
      "[0, 1, 2, 3, 4, 5, 6, 7, 8, 9]\n",
      "[3, 4, 5, 6, 7, 8, 9]\n",
      "[3, 5, 7, 9]\n"
     ]
    }
   ],
   "source": [
    "# range() Method that returns a list of integers\n",
    "\n",
    "## Example 1\n",
    "print(list(range(10))) #return integers 0-9 (ten things)\n",
    "print(list(range(3,10))) #return integers 3-9\n",
    "print(list(range(3,10,2)))\n",
    "# range(start,stop-1, by)\n",
    "\n",
    "## Example 2\n",
    "\n",
    "## Example 3"
   ]
  },
  {
   "cell_type": "code",
   "execution_count": 11,
   "id": "ca0e4cdb-f3f8-4e69-a476-2e6b6e7a9d13",
   "metadata": {},
   "outputs": [
    {
     "name": "stdout",
     "output_type": "stream",
     "text": [
      "B\n",
      "L\n",
      "A\n",
      "H\n",
      "\n",
      "\n",
      "\n",
      "NAME1\n",
      "NAME2\n",
      "NAME3\n",
      "\n",
      "\n",
      "\n",
      "0\n",
      "1\n",
      "2\n",
      "3\n",
      "4\n",
      "5\n",
      "6\n",
      "7\n",
      "8\n",
      "9\n"
     ]
    }
   ],
   "source": [
    "# For Loops\n",
    "### think for loop if you need to loop a known number of times or over somthing\n",
    "\n",
    "\n",
    "## Looping over strings\n",
    "myString = 'BLAH'\n",
    "for character in myString:\n",
    "    print(character)\n",
    "\n",
    "#print some blank lines\n",
    "print('\\n\\n')\n",
    "    \n",
    "## Looping over lists\n",
    "names = ['NAME1','NAME2','NAME3']\n",
    "for name in names: # for variable name in iterable object\n",
    "    print(name)\n",
    "    \n",
    "#print some blank lines\n",
    "print('\\n\\n')\n",
    "    \n",
    "## Looping with range\n",
    "for i in range(10):\n",
    "    print(i)"
   ]
  },
  {
   "cell_type": "code",
   "execution_count": 16,
   "id": "2b28099a-7dd8-4e17-a6ef-fc5e2f350a06",
   "metadata": {},
   "outputs": [
    {
     "name": "stdout",
     "output_type": "stream",
     "text": [
      "0\n",
      "1\n",
      "2\n",
      "3\n",
      "4\n",
      "5\n",
      "6\n",
      "7\n",
      "8\n",
      "9\n",
      "DONE count: 10\n"
     ]
    }
   ],
   "source": [
    "# While Loops\n",
    "\n",
    "## Example 1\n",
    "count = 0\n",
    "while count <10:\n",
    "    print(count)\n",
    "    count += 1\n",
    "print('done'.upper(),'count:', count)\n",
    "## Example 2 (going and going and going)"
   ]
  },
  {
   "cell_type": "code",
   "execution_count": 21,
   "id": "6b70dde1-5080-4121-ae61-f80fbaaedcb4",
   "metadata": {},
   "outputs": [
    {
     "name": "stdout",
     "output_type": "stream",
     "text": [
      "user1\n",
      "user2\n",
      "{'name': 'Dan', 'phone': '123-123-1234'}\n",
      "{'name': 'Dan', 'phone': '123-123-1234'}\n",
      "{'name': 'Dan', 'phone': '123-123-1234'}\n",
      "{'name': 'Dan', 'phone': '123-123-1234'}\n"
     ]
    }
   ],
   "source": [
    "# Dictionaries\n",
    "\n",
    "## Creating Dictionaries\n",
    "\n",
    "## Indexing Dictionaries\n",
    "\n",
    "## Looping over keys\n",
    "\n",
    "users = {'user1':{'name':'Dan','phone':'123-123-1234'},'user2':{'name':'Dan','phone':'123-123-1234'}}\n",
    "\n",
    "for user in users.keys():\n",
    "    print(user)\n",
    "\n",
    "for values in users.values():\n",
    "    print(values)\n",
    "    \n",
    "for key,value in users.items():\n",
    "    print(values)\n",
    "## Looping over values\n",
    "\n",
    "## Looping over key-value pairs\n",
    "\n",
    "## Nested Dictionaries (i.e., a dictionary can be a value)"
   ]
  },
  {
   "cell_type": "markdown",
   "id": "cb98ffa5-8d0d-4eec-be42-41a94a4e6c76",
   "metadata": {},
   "source": [
    "## Basic Instructions\n",
    "\n",
    "Designate someone to be the \"driver\" in your group. They will share their screen and help facilitate discussion as you work through the problems. As a group you will work through one exercise, then we will all come together to discuss before moving to the next exercise.\n",
    "\n",
    "## Exercise 1\n",
    "\n",
    "For this exercise, you should write code that evaluates each equation below. For part 1.1 and 1.2, you should use **for** loops. For part 1.3, you should use a **while** loop.\n",
    "\n",
    "1. y = $\\sum_{i=1}^{10} x$\n",
    "    - HINT: Use range()\n",
    "2. y = $\\frac{1}{|V|} \\sum_{x \\in V} x,\\, \\text{ where }\\, V = \\{5, 10, 15, 20, 25\\}$\n",
    "    - HINT: |V| is equal to the len() of V.\n",
    "    - EXTRA: If you have time, try solving this without using len() (HINT: Keep track of a count)\n",
    "3. y = $(\\prod_{x \\in V} x)^{\\frac{1}{|V|}},\\, \\text{ where }\\, V = \\{5, 10, 15, 20, 25\\}$\n",
    "    - HINT: You will need to index into V, e.g., V[i]\n",
    "    \n",
    "    \n",
    "**TIME**: 15 minutes"
   ]
  },
  {
   "cell_type": "code",
   "execution_count": null,
   "id": "7c0d5f91",
   "metadata": {},
   "outputs": [],
   "source": [
    "# y equals 1/len(V) "
   ]
  },
  {
   "cell_type": "code",
   "execution_count": 38,
   "id": "93a5bd3e-3f34-46f8-861c-0268130e9dff",
   "metadata": {},
   "outputs": [
    {
     "name": "stdout",
     "output_type": "stream",
     "text": [
      "55\n"
     ]
    }
   ],
   "source": [
    "# Part 1.1 Code Here\n",
    "y = 0\n",
    "\n",
    "for num in range(11):\n",
    "    y+=num\n",
    "print(y)"
   ]
  },
  {
   "cell_type": "code",
   "execution_count": 32,
   "id": "72387546-8ac7-4f60-8670-08cd90a0495a",
   "metadata": {},
   "outputs": [
    {
     "name": "stdout",
     "output_type": "stream",
     "text": [
      "15.0\n"
     ]
    }
   ],
   "source": [
    "# Part 1.2 Code Here\n",
    "\n",
    "V = [5, 10, 15, 20, 25]\n",
    "y = 0\n",
    "\n",
    "total = 0\n",
    "\n",
    "divider = 1/len(V)\n",
    "for item in V:\n",
    "    total+=item\n",
    "    \n",
    "answer = total*divider\n",
    "print(answer)"
   ]
  },
  {
   "cell_type": "code",
   "execution_count": 37,
   "id": "b502b84b-b23a-4637-a1be-0050f5e80003",
   "metadata": {},
   "outputs": [
    {
     "name": "stdout",
     "output_type": "stream",
     "text": [
      "13.025855423486762\n"
     ]
    }
   ],
   "source": [
    "# Part 1.3 Code Here\n",
    "V = [5, 10, 15, 20, 25]\n",
    "y = 0\n",
    "total = 1\n",
    "\n",
    "for item in V:\n",
    "    total*=item\n",
    "    \n",
    "total **= 1/len(V)\n",
    "\n",
    "print(total)"
   ]
  },
  {
   "cell_type": "markdown",
   "id": "4dbde490-40f4-4eb1-b786-d7b7d6e66df3",
   "metadata": {},
   "source": [
    "## Exercise 2\n",
    "\n",
    "For this exercise we are going use a dictionary to track how often a word appears within a sentence. The counts should be stored in the variable word_count. You should experiment with two options:\n",
    "\n",
    "1. Use the text as-is before splitting into words, e.g., \"This is a Test\" would become [\"This\", \"is\", \"a\", \"Test\"]\n",
    "2. lowercase the text before splitting the text into words, e.g., \"This is a Test\" would become [\"this\", \"is\", \"a\", \"test\"]\n",
    "\n",
    "**TIME**: 10 Minutes"
   ]
  },
  {
   "cell_type": "code",
   "execution_count": 4,
   "id": "601f2980-cb26-47f5-aa84-d6489f905ca1",
   "metadata": {},
   "outputs": [],
   "source": [
    "# Counting Words Code Here\n",
    "\n",
    "positive_words = {\"best\", \"great\", \"awesome\"}\n",
    "\n",
    "text = \"Python is the best programming language and Data Foundations is the BEST class at UTSA. It is AWESOME\"\n",
    "\n",
    "word_count = {}\n",
    "\n",
    "# Step 1: Break string into list of words. HINT: .split()\n",
    "# Step 2: Loop over list of words storing a count in word_count\n",
    "# Step 3: Print word_count\n",
    "\n",
    "\n",
    "# Repeat above, but after lowercasing text"
   ]
  },
  {
   "cell_type": "markdown",
   "id": "8b88d4c7-2544-4a20-a1a7-55ed7b2eff17",
   "metadata": {},
   "source": [
    "# Exercise 3\n",
    "\n",
    "For this exericise, we will implement the equation for linear regression using a dictionary.\n",
    "\n",
    "$ y = \\beta_0 + \\beta_1 * x_1 + \\beta_2 * x_2 + \\beta_3 * x_3 $\n",
    "\n",
    "It is okay to hardcode this, i.e., to index the dictionaries manually.\n",
    "\n",
    "**EXTRA**: If you have time, try to solve this problem without hardcoding it via the use of a for loop. HINT: Loop over keys in \"coefs\" incrementally creating y.\n",
    "\n",
    "**TIME**: 10 Minutes"
   ]
  },
  {
   "cell_type": "code",
   "execution_count": 6,
   "id": "2b1f4935-27ee-4b16-84e1-06d1c029acc0",
   "metadata": {},
   "outputs": [],
   "source": [
    "# Write code here\n",
    "coefs = {\"B0\": 1, \"B1\": 7.5, \"B2\": 3.21, \"B3\": -1.7} # B = beta, i.e., B1 = beta 1\n",
    "\n",
    "x = {\"x1\": -3, \"x2\": 8, \"x3\": 4}\n",
    "\n",
    "y = 0"
   ]
  },
  {
   "cell_type": "markdown",
   "id": "6e125904-bfcc-4234-b567-269e65e0a83c",
   "metadata": {},
   "source": [
    "## Exercise 4 (If we have time; I will share solution if we don't finish in class)\n",
    "\n",
    "Write code that loops over the email-phone-number pairs counting the occurance of each in the nested dictionary email_phone_counts.\n",
    "\n",
    "**Time**: 10 Minutes"
   ]
  },
  {
   "cell_type": "code",
   "execution_count": null,
   "id": "6838b1c7-00a5-4d75-a85f-1007823db975",
   "metadata": {},
   "outputs": [],
   "source": [
    "email_phone_counts = {\"emails\": {}, \"phoneNum\": {}}\n",
    "\n",
    "data = [['abc@utsa.edu', '555-5555'], ['abc@utsa.edu', '555-5555'], ['abc@utsa.edu', '555-5556'], ['anthony.rios@utsa.edu', '123-4567']]\n",
    "\n",
    "# Loop over each sublist in data using a for loop\n",
    "#     count email and phone number occurances in subdictionary email_phone_counts"
   ]
  }
 ],
 "metadata": {
  "hide_input": false,
  "kernelspec": {
   "display_name": "Python 3 (ipykernel)",
   "language": "python",
   "name": "python3"
  },
  "language_info": {
   "codemirror_mode": {
    "name": "ipython",
    "version": 3
   },
   "file_extension": ".py",
   "mimetype": "text/x-python",
   "name": "python",
   "nbconvert_exporter": "python",
   "pygments_lexer": "ipython3",
   "version": "3.9.12"
  }
 },
 "nbformat": 4,
 "nbformat_minor": 5
}
