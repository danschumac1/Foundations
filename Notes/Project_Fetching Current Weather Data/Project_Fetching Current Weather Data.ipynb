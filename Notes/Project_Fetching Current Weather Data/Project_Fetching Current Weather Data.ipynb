{
 "cells": [
  {
   "cell_type": "markdown",
   "id": "ca7d4a8a",
   "metadata": {},
   "source": [
    "# Project: Fetching Current Weather Datam"
   ]
  },
  {
   "cell_type": "markdown",
   "id": "55565944",
   "metadata": {},
   "source": [
    "Checking the weather seems fairly trivial: Open your web browser, click the address bar, type the URL to a weather website (or search for one and then click the link), wait for the page to load, look past all the ads, and so on.\n",
    "\n",
    "Actually, there are a lot of boring steps you could skip if you had a program that downloaded the weather forecast for the next few days and printed it as plaintext. This program uses the requests module from Chapter 12 to download data from the web.\n",
    "\n",
    "Overall, the program does the following:\n",
    "\n",
    "    - Reads the requested location from the command line\n",
    "    - Downloads JSON weather data from OpenWeatherMap.org\n",
    "    - Converts the string of JSON data to a Python data structure\n",
    "    - Prints the weather for today and the next two days\n",
    "So the code will need to do the following:\n",
    "\n",
    "    - Join strings in sys.argv to get the location.\n",
    "    - Call requests.get() to download the weather data.\n",
    "    - Call json.loads() to convert the JSON data to a Python data structure.\n",
    "    - Print the weather forecast.\n",
    "For this project, open a new file editor window and save it as getOpenWeather.py. Then visit https://openweathermap.org/api/ in your browser and sign up for a free account to obtain an API key, also called an app ID, which for the OpenWeatherMap service is a string code that looks something like '30144aba38018987d84710d0e319281e'. You don’t need to pay for this service unless you plan on making more than 60 API calls per minute. Keep the API key secret; anyone who knows it can write scripts that use your account’s usage quota."
   ]
  },
  {
   "cell_type": "code",
   "execution_count": null,
   "id": "86d391da",
   "metadata": {},
   "outputs": [],
   "source": []
  }
 ],
 "metadata": {
  "hide_input": false,
  "kernelspec": {
   "display_name": "Python 3 (ipykernel)",
   "language": "python",
   "name": "python3"
  },
  "language_info": {
   "codemirror_mode": {
    "name": "ipython",
    "version": 3
   },
   "file_extension": ".py",
   "mimetype": "text/x-python",
   "name": "python",
   "nbconvert_exporter": "python",
   "pygments_lexer": "ipython3",
   "version": "3.9.12"
  }
 },
 "nbformat": 4,
 "nbformat_minor": 5
}
