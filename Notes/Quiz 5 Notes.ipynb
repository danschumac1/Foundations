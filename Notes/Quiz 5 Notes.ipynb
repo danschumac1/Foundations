{
 "cells": [
  {
   "cell_type": "markdown",
   "id": "6b237a71",
   "metadata": {},
   "source": [
    "# Quiz 5 Notes"
   ]
  },
  {
   "cell_type": "code",
   "execution_count": 7,
   "id": "9ad061f1",
   "metadata": {},
   "outputs": [],
   "source": [
    "class Parent:\n",
    "    temp = 0\n",
    "    def __init__(self):\n",
    "        self.temp += 1\n",
    "        print(self.temp)\n",
    "\n",
    "class Child(Parent):\n",
    "    def __init__(self):\n",
    "        self.temp += 1\n",
    "        print(self.temp)\n"
   ]
  },
  {
   "cell_type": "code",
   "execution_count": 8,
   "id": "6e930ff4",
   "metadata": {},
   "outputs": [
    {
     "name": "stdout",
     "output_type": "stream",
     "text": [
      "1\n"
     ]
    }
   ],
   "source": [
    "test = Child()"
   ]
  },
  {
   "cell_type": "code",
   "execution_count": 16,
   "id": "5cec21ad",
   "metadata": {},
   "outputs": [
    {
     "data": {
      "text/plain": [
       "1"
      ]
     },
     "execution_count": 16,
     "metadata": {},
     "output_type": "execute_result"
    }
   ],
   "source": [
    "test.temp"
   ]
  },
  {
   "cell_type": "code",
   "execution_count": 5,
   "id": "705829d0",
   "metadata": {},
   "outputs": [
    {
     "name": "stdout",
     "output_type": "stream",
     "text": [
      "<__main__.Child object at 0x0000017A674AC070>\n"
     ]
    }
   ],
   "source": [
    "print(test)"
   ]
  },
  {
   "cell_type": "code",
   "execution_count": 14,
   "id": "b28e9982",
   "metadata": {},
   "outputs": [
    {
     "name": "stdout",
     "output_type": "stream",
     "text": [
      "1\n",
      "1\n",
      "2\n"
     ]
    }
   ],
   "source": [
    "class Parent:\n",
    "    temp = 0\n",
    "    def __init__(self):\n",
    "        self.temp += 1\n",
    "        print(self.temp)\n",
    "\n",
    "    def run(self):\n",
    "        self.temp += 1\n",
    "        print(self.temp)\n",
    "john = Parent()\n",
    "sarah = Parent()\n",
    "sarah.run()"
   ]
  },
  {
   "cell_type": "code",
   "execution_count": 15,
   "id": "fa913c94",
   "metadata": {},
   "outputs": [
    {
     "data": {
      "text/plain": [
       "1"
      ]
     },
     "execution_count": 15,
     "metadata": {},
     "output_type": "execute_result"
    }
   ],
   "source": [
    "john.temp"
   ]
  },
  {
   "cell_type": "code",
   "execution_count": 17,
   "id": "d677d4fe",
   "metadata": {},
   "outputs": [],
   "source": [
    "class Addition:\n",
    "    value = 0\n",
    "    def __init__(self):\n",
    "        self.value += 1\n",
    "\n",
    "    def add(self):\n",
    "        self.value += 1\n",
    "\n",
    "    def test(self):\n",
    "        self.value += 1\n",
    "\n",
    "tmp = Addition()\n",
    "tmp.add()"
   ]
  },
  {
   "cell_type": "code",
   "execution_count": 18,
   "id": "0a71deef",
   "metadata": {},
   "outputs": [
    {
     "data": {
      "text/plain": [
       "2"
      ]
     },
     "execution_count": 18,
     "metadata": {},
     "output_type": "execute_result"
    }
   ],
   "source": [
    "tmp.value"
   ]
  },
  {
   "cell_type": "code",
   "execution_count": 20,
   "id": "584a04bf",
   "metadata": {},
   "outputs": [],
   "source": [
    "class Addition:\n",
    "    value = 0\n",
    "    def __init__(self):\n",
    "        self.value += 1\n",
    "\n",
    "    def add(self):\n",
    "        self.value += 1\n",
    "\n",
    "    def test(self):\n",
    "        self.value += 1"
   ]
  },
  {
   "cell_type": "code",
   "execution_count": 21,
   "id": "550f47ec",
   "metadata": {},
   "outputs": [],
   "source": [
    "class Addition:\n",
    "    value = 0\n",
    "    def __init__(self):\n",
    "        self.value += 1\n",
    "\n",
    "    def add(self):\n",
    "        self.value += 1\n",
    "\n",
    "    def test(self):\n",
    "        self.value += 1"
   ]
  },
  {
   "cell_type": "code",
   "execution_count": 22,
   "id": "fb223680",
   "metadata": {},
   "outputs": [],
   "source": [
    "test = Addition()"
   ]
  },
  {
   "cell_type": "code",
   "execution_count": null,
   "id": "2c6b79b7",
   "metadata": {},
   "outputs": [],
   "source": [
    "test."
   ]
  },
  {
   "cell_type": "code",
   "execution_count": null,
   "id": "d823f32f",
   "metadata": {},
   "outputs": [],
   "source": []
  },
  {
   "cell_type": "code",
   "execution_count": null,
   "id": "98465509",
   "metadata": {},
   "outputs": [],
   "source": []
  },
  {
   "cell_type": "code",
   "execution_count": null,
   "id": "7b9ccfb8",
   "metadata": {},
   "outputs": [],
   "source": []
  },
  {
   "cell_type": "code",
   "execution_count": null,
   "id": "56651901",
   "metadata": {},
   "outputs": [],
   "source": []
  }
 ],
 "metadata": {
  "hide_input": false,
  "kernelspec": {
   "display_name": "Python 3 (ipykernel)",
   "language": "python",
   "name": "python3"
  },
  "language_info": {
   "codemirror_mode": {
    "name": "ipython",
    "version": 3
   },
   "file_extension": ".py",
   "mimetype": "text/x-python",
   "name": "python",
   "nbconvert_exporter": "python",
   "pygments_lexer": "ipython3",
   "version": "3.9.12"
  }
 },
 "nbformat": 4,
 "nbformat_minor": 5
}
