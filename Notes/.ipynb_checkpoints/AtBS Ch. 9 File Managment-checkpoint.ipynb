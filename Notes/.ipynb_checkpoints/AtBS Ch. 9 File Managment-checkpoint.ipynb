{
 "cells": [
  {
   "cell_type": "code",
   "execution_count": 1,
   "id": "cc4564a1",
   "metadata": {},
   "outputs": [],
   "source": [
    "from pathlib import Path"
   ]
  },
  {
   "cell_type": "code",
   "execution_count": 3,
   "id": "de6dcc28",
   "metadata": {},
   "outputs": [
    {
     "data": {
      "text/plain": [
       "WindowsPath('spam/bacon/eggs')"
      ]
     },
     "execution_count": 3,
     "metadata": {},
     "output_type": "execute_result"
    }
   ],
   "source": [
    "Path('spam','bacon','eggs')"
   ]
  },
  {
   "cell_type": "code",
   "execution_count": 2,
   "id": "acefe06e",
   "metadata": {},
   "outputs": [
    {
     "data": {
      "text/plain": [
       "WindowsPath('spam/bacon/eggs')"
      ]
     },
     "execution_count": 2,
     "metadata": {},
     "output_type": "execute_result"
    }
   ],
   "source": [
    "Path('spam')/'bacon'/'eggs'"
   ]
  },
  {
   "cell_type": "code",
   "execution_count": 5,
   "id": "e1d6daa4",
   "metadata": {},
   "outputs": [],
   "source": [
    "import os"
   ]
  },
  {
   "cell_type": "code",
   "execution_count": 19,
   "id": "ab05fe5e",
   "metadata": {
    "scrolled": true
   },
   "outputs": [],
   "source": [
    "original_path = Path.cwd()"
   ]
  },
  {
   "cell_type": "code",
   "execution_count": 20,
   "id": "74fa9d9f",
   "metadata": {},
   "outputs": [
    {
     "name": "stdout",
     "output_type": "stream",
     "text": [
      "C:\\Users\\dansc\\Documents\\Gradschool\\Foundations\\Notes\n"
     ]
    }
   ],
   "source": [
    "print(original_path)"
   ]
  },
  {
   "cell_type": "code",
   "execution_count": 21,
   "id": "1b04ace1",
   "metadata": {},
   "outputs": [],
   "source": [
    "od_desktop = Path('C:/','Users','dansc','OneDrive','Desktop') "
   ]
  },
  {
   "cell_type": "code",
   "execution_count": 22,
   "id": "33c7910f",
   "metadata": {},
   "outputs": [
    {
     "data": {
      "text/plain": [
       "WindowsPath('C:/Users/dansc/OneDrive/Desktop')"
      ]
     },
     "execution_count": 22,
     "metadata": {},
     "output_type": "execute_result"
    }
   ],
   "source": [
    "od_desktop"
   ]
  },
  {
   "cell_type": "code",
   "execution_count": 23,
   "id": "9f123737",
   "metadata": {},
   "outputs": [],
   "source": [
    "os.chdir(od_desktop)"
   ]
  },
  {
   "cell_type": "code",
   "execution_count": 24,
   "id": "7b9feaa2",
   "metadata": {},
   "outputs": [
    {
     "data": {
      "text/plain": [
       "WindowsPath('C:/Users/dansc/OneDrive/Desktop')"
      ]
     },
     "execution_count": 24,
     "metadata": {},
     "output_type": "execute_result"
    }
   ],
   "source": [
    "Path.cwd()"
   ]
  },
  {
   "cell_type": "code",
   "execution_count": 25,
   "id": "92d2e588",
   "metadata": {},
   "outputs": [],
   "source": [
    "os.chdir('C:/Users/dansc/Documents/Gradschool/Foundations/Notes')"
   ]
  },
  {
   "cell_type": "code",
   "execution_count": 26,
   "id": "9d423b75",
   "metadata": {},
   "outputs": [
    {
     "data": {
      "text/plain": [
       "WindowsPath('C:/Users/dansc/Documents/Gradschool/Foundations/Notes')"
      ]
     },
     "execution_count": 26,
     "metadata": {},
     "output_type": "execute_result"
    }
   ],
   "source": [
    "Path.cwd()"
   ]
  },
  {
   "cell_type": "code",
   "execution_count": 28,
   "id": "fcb8576b",
   "metadata": {},
   "outputs": [
    {
     "data": {
      "text/plain": [
       "WindowsPath('C:/Users/dansc')"
      ]
     },
     "execution_count": 28,
     "metadata": {},
     "output_type": "execute_result"
    }
   ],
   "source": [
    "Path.home()"
   ]
  },
  {
   "cell_type": "markdown",
   "id": "e6f87092",
   "metadata": {},
   "source": [
    "## Make new folders"
   ]
  },
  {
   "cell_type": "code",
   "execution_count": 31,
   "id": "0bd79a01",
   "metadata": {},
   "outputs": [],
   "source": [
    "os.makedirs(Path('Relative_Folder_Parent','Child'))"
   ]
  },
  {
   "cell_type": "code",
   "execution_count": 32,
   "id": "cfe8c642",
   "metadata": {},
   "outputs": [],
   "source": [
    "#or you can use this syntax\n",
    "Path('Relative_Folder_Parent','Child','Grandchild').mkdir()"
   ]
  },
  {
   "cell_type": "markdown",
   "id": "948b6d5c",
   "metadata": {},
   "source": [
    "## Checking if absolute path"
   ]
  },
  {
   "cell_type": "code",
   "execution_count": 39,
   "id": "d1a4197b",
   "metadata": {},
   "outputs": [
    {
     "data": {
      "text/plain": [
       "True"
      ]
     },
     "execution_count": 39,
     "metadata": {},
     "output_type": "execute_result"
    }
   ],
   "source": [
    "os.path.isabs('C:\\\\Users\\\\dansc\\\\Documents\\\\Gradschool\\\\Foundations\\\\Notes\\\\Relative_Folder_Parent')"
   ]
  },
  {
   "cell_type": "code",
   "execution_count": 40,
   "id": "66855ac0",
   "metadata": {},
   "outputs": [
    {
     "data": {
      "text/plain": [
       "False"
      ]
     },
     "execution_count": 40,
     "metadata": {},
     "output_type": "execute_result"
    }
   ],
   "source": [
    "os.path.isabs(\"..\\..\\.\")"
   ]
  },
  {
   "cell_type": "markdown",
   "id": "402a7400",
   "metadata": {},
   "source": [
    "## Obtaining absolute paths "
   ]
  },
  {
   "cell_type": "code",
   "execution_count": 34,
   "id": "0cef9817",
   "metadata": {
    "scrolled": true
   },
   "outputs": [
    {
     "data": {
      "text/plain": [
       "'C:\\\\Users\\\\dansc\\\\Documents\\\\Gradschool\\\\Foundations\\\\Notes'"
      ]
     },
     "execution_count": 34,
     "metadata": {},
     "output_type": "execute_result"
    }
   ],
   "source": [
    "os.path.abspath('.')"
   ]
  },
  {
   "cell_type": "code",
   "execution_count": 35,
   "id": "24d9da0d",
   "metadata": {},
   "outputs": [
    {
     "data": {
      "text/plain": [
       "'C:\\\\Users\\\\dansc\\\\Documents\\\\Gradschool\\\\Foundations\\\\Notes\\\\Relative_Folder_Parent'"
      ]
     },
     "execution_count": 35,
     "metadata": {},
     "output_type": "execute_result"
    }
   ],
   "source": [
    "os.path.abspath('Relative_Folder_Parent/')"
   ]
  },
  {
   "cell_type": "code",
   "execution_count": 38,
   "id": "b9c3462b",
   "metadata": {},
   "outputs": [
    {
     "data": {
      "text/plain": [
       "'C:\\\\Users\\\\dansc\\\\Documents\\\\Gradschool'"
      ]
     },
     "execution_count": 38,
     "metadata": {},
     "output_type": "execute_result"
    }
   ],
   "source": [
    "# you can use ..\\ to go back folders!\n",
    "os.path.abspath(\"..\\..\\.\")"
   ]
  },
  {
   "cell_type": "code",
   "execution_count": 92,
   "id": "c5a444ef",
   "metadata": {},
   "outputs": [
    {
     "data": {
      "text/plain": [
       "WindowsPath('C:/Users/dansc/Music/Transcribe!1/Hardest Button Speeds')"
      ]
     },
     "execution_count": 92,
     "metadata": {},
     "output_type": "execute_result"
    }
   ],
   "source": [
    "Path.cwd()"
   ]
  },
  {
   "cell_type": "code",
   "execution_count": 108,
   "id": "ff8f4f65",
   "metadata": {},
   "outputs": [],
   "source": [
    "os.chdir(original_path)"
   ]
  },
  {
   "cell_type": "code",
   "execution_count": 96,
   "id": "37055814",
   "metadata": {},
   "outputs": [
    {
     "data": {
      "text/plain": [
       "WindowsPath('C:/Users/dansc/Documents/Gradschool/Foundations/Notes')"
      ]
     },
     "execution_count": 96,
     "metadata": {},
     "output_type": "execute_result"
    }
   ],
   "source": [
    "Path.cwd()"
   ]
  },
  {
   "cell_type": "code",
   "execution_count": 99,
   "id": "6e2e2914",
   "metadata": {},
   "outputs": [
    {
     "data": {
      "text/plain": [
       "WindowsPath('C:/Users/dansc/Documents/Gradschool/Foundations')"
      ]
     },
     "execution_count": 99,
     "metadata": {},
     "output_type": "execute_result"
    }
   ],
   "source": [
    "Path.cwd().parents[0]"
   ]
  },
  {
   "cell_type": "code",
   "execution_count": 98,
   "id": "ca78ccd9",
   "metadata": {},
   "outputs": [
    {
     "data": {
      "text/plain": [
       "WindowsPath('C:/Users/dansc/Documents/Gradschool')"
      ]
     },
     "execution_count": 98,
     "metadata": {},
     "output_type": "execute_result"
    }
   ],
   "source": [
    "Path.cwd().parents[1]"
   ]
  },
  {
   "cell_type": "code",
   "execution_count": 101,
   "id": "c80a7f05",
   "metadata": {},
   "outputs": [
    {
     "data": {
      "text/plain": [
       "WindowsPath('C:/Users/dansc')"
      ]
     },
     "execution_count": 101,
     "metadata": {},
     "output_type": "execute_result"
    }
   ],
   "source": [
    "Path.cwd().parents[3]"
   ]
  },
  {
   "cell_type": "markdown",
   "id": "dced88b1",
   "metadata": {},
   "source": [
    "## Let's rename the files in my transcribe folder"
   ]
  },
  {
   "cell_type": "code",
   "execution_count": 105,
   "id": "54106ecd",
   "metadata": {},
   "outputs": [],
   "source": [
    "transcribe = Path('C:/','Users','dansc','Music','Transcribe!1','Hardest Button Speeds')"
   ]
  },
  {
   "cell_type": "code",
   "execution_count": 106,
   "id": "8bf7a222",
   "metadata": {},
   "outputs": [],
   "source": [
    "os.chdir(transcribe)"
   ]
  },
  {
   "cell_type": "code",
   "execution_count": 107,
   "id": "d54e1151",
   "metadata": {},
   "outputs": [],
   "source": [
    "#loop through transcribe folder\n",
    "for filename in os.listdir(transcribe):\n",
    "    \n",
    "    # name of file\n",
    "    name = os.path.join(filename)\n",
    "    \n",
    "    # does it start with track number\n",
    "    first_thing = name.split()[0]\n",
    "    if os.path.isfile(name):\n",
    "        try: # if files start with track number re name them to not include track number\n",
    "            int(first_thing)\n",
    "            fixed_name = ' '.join(name.split()[1:])\n",
    "            \n",
    "            os.rename(name, fixed_name)\n",
    "                                 \n",
    "        except: # do not alter files that are correctly named\n",
    "            pass"
   ]
  },
  {
   "cell_type": "code",
   "execution_count": null,
   "id": "1048f9c1",
   "metadata": {},
   "outputs": [],
   "source": [
    "transcribe = Path('C:/','Users','dansc','Music','Transcribe!1')"
   ]
  },
  {
   "cell_type": "markdown",
   "id": "d155cffc",
   "metadata": {},
   "source": [
    "## SHELVING (Notes continued)"
   ]
  },
  {
   "cell_type": "code",
   "execution_count": 8,
   "id": "23b4aa8b",
   "metadata": {},
   "outputs": [],
   "source": [
    "import shelve\n",
    "shelfFile = shelve.open('data/mydata')\n",
    "cats = ['Zophie', 'Pooka', 'Simon']\n",
    "shelfFile['cats'] = cats\n",
    "shelfFile.close()"
   ]
  },
  {
   "cell_type": "code",
   "execution_count": 9,
   "id": "438ab82f",
   "metadata": {},
   "outputs": [
    {
     "data": {
      "text/plain": [
       "shelve.DbfilenameShelf"
      ]
     },
     "execution_count": 9,
     "metadata": {},
     "output_type": "execute_result"
    }
   ],
   "source": [
    "shelfFile = shelve.open('data/mydata')\n",
    "type(shelfFile)"
   ]
  },
  {
   "cell_type": "code",
   "execution_count": 10,
   "id": "598e5d85",
   "metadata": {},
   "outputs": [
    {
     "data": {
      "text/plain": [
       "['Zophie', 'Pooka', 'Simon']"
      ]
     },
     "execution_count": 10,
     "metadata": {},
     "output_type": "execute_result"
    }
   ],
   "source": [
    "shelfFile['cats']"
   ]
  },
  {
   "cell_type": "code",
   "execution_count": 11,
   "id": "36377c85",
   "metadata": {},
   "outputs": [],
   "source": [
    "shelfFile.close()"
   ]
  },
  {
   "cell_type": "code",
   "execution_count": 12,
   "id": "491d7a71",
   "metadata": {
    "scrolled": true
   },
   "outputs": [
    {
     "data": {
      "text/plain": [
       "['cats']"
      ]
     },
     "execution_count": 12,
     "metadata": {},
     "output_type": "execute_result"
    }
   ],
   "source": [
    "shelfFile =shelve.open('data/mydata')\n",
    "list(shelfFile.keys())"
   ]
  },
  {
   "cell_type": "code",
   "execution_count": 14,
   "id": "4423a603",
   "metadata": {},
   "outputs": [
    {
     "data": {
      "text/plain": [
       "[['Zophie', 'Pooka', 'Simon']]"
      ]
     },
     "execution_count": 14,
     "metadata": {},
     "output_type": "execute_result"
    }
   ],
   "source": [
    "list(shelfFile.values())"
   ]
  },
  {
   "cell_type": "code",
   "execution_count": 15,
   "id": "259ebfa9",
   "metadata": {},
   "outputs": [],
   "source": [
    "shelfFile.close()"
   ]
  },
  {
   "cell_type": "markdown",
   "id": "ab6e9fc7",
   "metadata": {},
   "source": [
    "## Saving Variables with the pprint.pformat() Function"
   ]
  },
  {
   "cell_type": "code",
   "execution_count": 17,
   "id": "78029531",
   "metadata": {},
   "outputs": [],
   "source": [
    "import pprint\n",
    "cats = [{'name': 'Zophie', 'desc': 'chubby'}, {'name': 'Pooka', 'desc': 'fluffy'}]\n",
    "pprint.pformat(cats)\n",
    "fileObj = open('data/myCats.py', 'w')\n",
    "fileObj.write('cats = ' + pprint.pformat(cats) + '\\n')\n",
    "fileObj.close()"
   ]
  },
  {
   "cell_type": "code",
   "execution_count": 27,
   "id": "0d403620",
   "metadata": {},
   "outputs": [],
   "source": [
    "import os \n",
    "os.chdir('data')\n",
    "import myCats\n",
    "os.chdir('..')\n"
   ]
  }
 ],
 "metadata": {
  "hide_input": false,
  "kernelspec": {
   "display_name": "Python 3 (ipykernel)",
   "language": "python",
   "name": "python3"
  },
  "language_info": {
   "codemirror_mode": {
    "name": "ipython",
    "version": 3
   },
   "file_extension": ".py",
   "mimetype": "text/x-python",
   "name": "python",
   "nbconvert_exporter": "python",
   "pygments_lexer": "ipython3",
   "version": "3.9.12"
  }
 },
 "nbformat": 4,
 "nbformat_minor": 5
}
