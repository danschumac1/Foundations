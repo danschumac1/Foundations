{
 "cells": [
  {
   "cell_type": "code",
   "execution_count": 1,
   "id": "1e3c9018",
   "metadata": {},
   "outputs": [],
   "source": [
    "def foo():\n",
    "\n",
    "    print(\"Hello World!\")\n",
    "\n",
    "bar = 3 + 2"
   ]
  }
 ],
 "metadata": {
  "hide_input": false,
  "kernelspec": {
   "display_name": "Python 3 (ipykernel)",
   "language": "python",
   "name": "python3"
  },
  "language_info": {
   "codemirror_mode": {
    "name": "ipython",
    "version": 3
   },
   "file_extension": ".py",
   "mimetype": "text/x-python",
   "name": "python",
   "nbconvert_exporter": "python",
   "pygments_lexer": "ipython3",
   "version": "3.9.12"
  }
 },
 "nbformat": 4,
 "nbformat_minor": 5
}
