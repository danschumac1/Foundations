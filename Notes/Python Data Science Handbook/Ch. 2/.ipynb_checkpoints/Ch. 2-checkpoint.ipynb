{
 "cells": [
  {
   "cell_type": "code",
   "execution_count": 13,
   "id": "15f59566",
   "metadata": {},
   "outputs": [],
   "source": [
    "import numpy as np\n",
    "x2 = np.random.randint(10, size=(3, 4))  # Two-dimensional array"
   ]
  },
  {
   "cell_type": "code",
   "execution_count": 14,
   "id": "0659a476",
   "metadata": {
    "scrolled": true
   },
   "outputs": [
    {
     "data": {
      "text/plain": [
       "array([[2, 5, 3, 1],\n",
       "       [2, 0, 7, 3],\n",
       "       [6, 2, 7, 7]])"
      ]
     },
     "execution_count": 14,
     "metadata": {},
     "output_type": "execute_result"
    }
   ],
   "source": [
    "x2"
   ]
  },
  {
   "cell_type": "code",
   "execution_count": 15,
   "id": "4a3e3a8a",
   "metadata": {},
   "outputs": [],
   "source": [
    "x2_sub_copy = x2[:2,:2].copy()"
   ]
  },
  {
   "cell_type": "code",
   "execution_count": 16,
   "id": "b91305a0",
   "metadata": {},
   "outputs": [
    {
     "name": "stdout",
     "output_type": "stream",
     "text": [
      "[[2 5]\n",
      " [2 0]]\n",
      "[[50000     5]\n",
      " [    2     0]]\n",
      "[[2 5 3 1]\n",
      " [2 0 7 3]\n",
      " [6 2 7 7]]\n"
     ]
    }
   ],
   "source": [
    "print(x2_sub_copy)\n",
    "x2_sub_copy[0,0] = 50000\n",
    "print(x2_sub_copy)\n",
    "print(x2)"
   ]
  },
  {
   "cell_type": "code",
   "execution_count": 17,
   "id": "4ace9861",
   "metadata": {},
   "outputs": [],
   "source": [
    "x2_sub_copy = x2[:2,:2]"
   ]
  },
  {
   "cell_type": "code",
   "execution_count": 18,
   "id": "f28b2ec8",
   "metadata": {},
   "outputs": [
    {
     "name": "stdout",
     "output_type": "stream",
     "text": [
      "[[2 5]\n",
      " [2 0]]\n",
      "[[50000     5]\n",
      " [    2     0]]\n",
      "[[50000     5     3     1]\n",
      " [    2     0     7     3]\n",
      " [    6     2     7     7]]\n"
     ]
    }
   ],
   "source": [
    "print(x2_sub_copy)\n",
    "x2_sub_copy[0,0] = 50000\n",
    "print(x2_sub_copy)\n",
    "#THIS IS WHY WE USE .COPY()!!! JEEEZ\n",
    "print(x2)"
   ]
  },
  {
   "cell_type": "markdown",
   "id": "1a803dba",
   "metadata": {},
   "source": [
    "https://jakevdp.github.io/PythonDataScienceHandbook/02.03-computation-on-arrays-ufuncs.html"
   ]
  }
 ],
 "metadata": {
  "hide_input": false,
  "kernelspec": {
   "display_name": "Python 3 (ipykernel)",
   "language": "python",
   "name": "python3"
  },
  "language_info": {
   "codemirror_mode": {
    "name": "ipython",
    "version": 3
   },
   "file_extension": ".py",
   "mimetype": "text/x-python",
   "name": "python",
   "nbconvert_exporter": "python",
   "pygments_lexer": "ipython3",
   "version": "3.9.12"
  }
 },
 "nbformat": 4,
 "nbformat_minor": 5
}
