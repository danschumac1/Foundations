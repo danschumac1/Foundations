{
 "cells": [
  {
   "cell_type": "markdown",
   "id": "8362ac2e",
   "metadata": {},
   "source": [
    "# WORKING WITH CSV FILES AND JOSN DATA"
   ]
  },
  {
   "cell_type": "code",
   "execution_count": 38,
   "id": "b6db54d4",
   "metadata": {},
   "outputs": [],
   "source": [
    "from pathlib import Path\n",
    "import csv\n"
   ]
  },
  {
   "cell_type": "code",
   "execution_count": 3,
   "id": "fe00f32f",
   "metadata": {},
   "outputs": [
    {
     "name": "stdout",
     "output_type": "stream",
     "text": [
      "[['4/5/2014 13:34', 'Apples', '73'], ['4/5/2014 3:41', 'Cherries', '85'], ['4/6/2014 12:46', 'Pears', '14'], ['4/8/2014 8:59', 'Oranges', '52'], ['4/10/2014 2:07', 'Apples', '152'], ['4/10/2014 18:10', 'Bananas', '23'], ['4/10/2014 2:40', 'Strawberries', '98']]\n"
     ]
    }
   ],
   "source": [
    "exampleFile = open('data/example.csv')\n",
    "exampleReader = csv.reader(exampleFile)\n",
    "exampleData = list(exampleReader)\n",
    "print(exampleData)\n",
    "exampleFile.close()"
   ]
  },
  {
   "cell_type": "code",
   "execution_count": 4,
   "id": "8cd2a8ce",
   "metadata": {},
   "outputs": [
    {
     "data": {
      "text/plain": [
       "'73'"
      ]
     },
     "execution_count": 4,
     "metadata": {},
     "output_type": "execute_result"
    }
   ],
   "source": [
    "# exampleData[row][col]1\n",
    "exampleData[0][2]"
   ]
  },
  {
   "cell_type": "code",
   "execution_count": 7,
   "id": "90ac0fb9",
   "metadata": {},
   "outputs": [
    {
     "name": "stdout",
     "output_type": "stream",
     "text": [
      "Row #1 ['4/5/2014 13:34', 'Apples', '73']\n",
      "Row #2 ['4/5/2014 3:41', 'Cherries', '85']\n",
      "Row #3 ['4/6/2014 12:46', 'Pears', '14']\n",
      "Row #4 ['4/8/2014 8:59', 'Oranges', '52']\n",
      "Row #5 ['4/10/2014 2:07', 'Apples', '152']\n",
      "Row #6 ['4/10/2014 18:10', 'Bananas', '23']\n",
      "Row #7 ['4/10/2014 2:40', 'Strawberries', '98']\n"
     ]
    }
   ],
   "source": [
    "import csv\n",
    "exampleFile = open('data/example.csv')\n",
    "exampleReader = csv.reader(exampleFile)\n",
    "for row in exampleReader:\n",
    "    print('Row #' + str(exampleReader.line_num) + ' ' + str(row))\n",
    "    \n",
    "exampleFile.close()"
   ]
  },
  {
   "cell_type": "code",
   "execution_count": 19,
   "id": "b582693d",
   "metadata": {},
   "outputs": [],
   "source": [
    "import csv\n",
    "outputFile = open('data/output.csv', 'w', newline='')\n",
    "outputWriter = csv.writer(outputFile)\n",
    "outputWriter.writerow(['spam', 'eggs', 'bacon', 'ham'])\n",
    "outputWriter.writerow(['Hello, world!', 'eggs', 'bacon', 'ham'])\n",
    "outputWriter.writerow([1, 2, 3.141592, 4])\n",
    "outputFile.close()"
   ]
  },
  {
   "cell_type": "code",
   "execution_count": 21,
   "id": "656c9691",
   "metadata": {},
   "outputs": [
    {
     "name": "stdout",
     "output_type": "stream",
     "text": [
      "4/5/2014 13:34 Apples 73\n",
      "4/5/2014 3:41 Cherries 85\n",
      "4/6/2014 12:46 Pears 14\n",
      "4/8/2014 8:59 Oranges 52\n",
      "4/10/2014 2:07 Apples 152\n",
      "4/10/2014 18:10 Bananas 23\n",
      "4/10/2014 2:40 Strawberries 98\n"
     ]
    }
   ],
   "source": [
    "import csv\n",
    "exampleFile = open('data/exampleWithHeader.csv')\n",
    "exampleDictReader = csv.DictReader(exampleFile)\n",
    "for row in exampleDictReader:\n",
    "    print(row['Timestamp'], row['Fruit'], row['Quantity'])"
   ]
  },
  {
   "cell_type": "code",
   "execution_count": 31,
   "id": "a5be03bc",
   "metadata": {},
   "outputs": [],
   "source": [
    "import csv\n",
    "\n",
    "outputFile = open('data/output.csv', 'w', newline='')\n",
    "outputDictWriter = csv.DictWriter(outputFile, ['Name', 'Pet', 'Phone'])\n",
    "outputDictWriter.writeheader()\n",
    "outputDictWriter.writerow({'Name': 'Alice', 'Pet': 'cat', 'Phone': '555-1234'})\n",
    "outputDictWriter.writerow({'Name': 'Bob', 'Phone': '555-9999'})\n",
    "outputDictWriter.writerow({'Phone': '555-5555', 'Name': 'Carol', 'Pet':'dog'})\n",
    "\n",
    "outputFile.close()"
   ]
  },
  {
   "cell_type": "markdown",
   "id": "7124dae0",
   "metadata": {},
   "source": [
    "# Project: Removing the Header from CSV Files"
   ]
  },
  {
   "cell_type": "code",
   "execution_count": 32,
   "id": "f63a80fa",
   "metadata": {},
   "outputs": [],
   "source": [
    "import os"
   ]
  },
  {
   "cell_type": "code",
   "execution_count": 39,
   "id": "fc63834d",
   "metadata": {},
   "outputs": [
    {
     "data": {
      "text/plain": [
       "WindowsPath('C:/Users/dansc/Documents/Gradschool/Foundations/Notes/AtBS Ch. 16')"
      ]
     },
     "execution_count": 39,
     "metadata": {},
     "output_type": "execute_result"
    }
   ],
   "source": [
    "Path.cwd()"
   ]
  },
  {
   "cell_type": "code",
   "execution_count": 48,
   "id": "80953394",
   "metadata": {},
   "outputs": [
    {
     "name": "stdout",
     "output_type": "stream",
     "text": [
      "['4/5/2014 3:41', 'Cherries', '85']\n",
      "['4/6/2014 12:46', 'Pears', '14']\n",
      "['4/8/2014 8:59', 'Oranges', '52']\n",
      "['4/10/2014 2:07', 'Apples', '152']\n",
      "['4/10/2014 18:10', 'Bananas', '23']\n",
      "['4/10/2014 2:40', 'Strawberries', '98']\n",
      "['4/5/2014 13:34', 'Apples', '73']\n",
      "['4/5/2014 3:41', 'Cherries', '85']\n",
      "['4/6/2014 12:46', 'Pears', '14']\n",
      "['4/8/2014 8:59', 'Oranges', '52']\n",
      "['4/10/2014 2:07', 'Apples', '152']\n",
      "['4/10/2014 18:10', 'Bananas', '23']\n",
      "['4/10/2014 2:40', 'Strawberries', '98']\n"
     ]
    }
   ],
   "source": [
    "for file in os.listdir('./data/'):\n",
    "    if file.endswith('.csv'):\n",
    "        csv_file = open(f'./data/{file}')\n",
    "        readerObj = csv.reader(csv_file)\n",
    "        filtered_rows = [row for row in readerObj if readerObj.line_num != 1]\n",
    "        for row in filtered_rows:\n",
    "            print(row)"
   ]
  },
  {
   "cell_type": "code",
   "execution_count": null,
   "id": "06a1f39d",
   "metadata": {},
   "outputs": [],
   "source": []
  },
  {
   "cell_type": "code",
   "execution_count": null,
   "id": "ea374f55",
   "metadata": {},
   "outputs": [],
   "source": []
  },
  {
   "cell_type": "code",
   "execution_count": null,
   "id": "b17d01f5",
   "metadata": {},
   "outputs": [],
   "source": []
  },
  {
   "cell_type": "code",
   "execution_count": null,
   "id": "c6306285",
   "metadata": {},
   "outputs": [],
   "source": []
  },
  {
   "cell_type": "code",
   "execution_count": null,
   "id": "1dfb9a00",
   "metadata": {},
   "outputs": [],
   "source": []
  }
 ],
 "metadata": {
  "hide_input": false,
  "kernelspec": {
   "display_name": "Python 3 (ipykernel)",
   "language": "python",
   "name": "python3"
  },
  "language_info": {
   "codemirror_mode": {
    "name": "ipython",
    "version": 3
   },
   "file_extension": ".py",
   "mimetype": "text/x-python",
   "name": "python",
   "nbconvert_exporter": "python",
   "pygments_lexer": "ipython3",
   "version": "3.9.12"
  }
 },
 "nbformat": 4,
 "nbformat_minor": 5
}
