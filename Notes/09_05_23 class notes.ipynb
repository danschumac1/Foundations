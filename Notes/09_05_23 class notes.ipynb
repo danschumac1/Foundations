{
 "cells": [
  {
   "cell_type": "code",
   "execution_count": 7,
   "id": "901e2102",
   "metadata": {},
   "outputs": [
    {
     "ename": "SyntaxError",
     "evalue": "invalid syntax (594537122.py, line 13)",
     "output_type": "error",
     "traceback": [
      "\u001b[1;36m  Input \u001b[1;32mIn [7]\u001b[1;36m\u001b[0m\n\u001b[1;33m    if len(new_phone) == 3//\u001b[0m\n\u001b[1;37m                            ^\u001b[0m\n\u001b[1;31mSyntaxError\u001b[0m\u001b[1;31m:\u001b[0m invalid syntax\n"
     ]
    }
   ],
   "source": [
    "phone = 'a55-555-5555'\n",
    "\n",
    "# two dashes\n",
    "# three digits (first)\n",
    "# three digits (mid)\n",
    "# four digits (last)\n",
    "\n",
    "new_phone = phone.split('-')\n",
    "first = phone.split('-')[0]\n",
    "mid = phone.split('-')[1]\n",
    "last = phone.split('-')[2]\n",
    "\n",
    "if len(new_phone) == 3//\n",
    "    and (len(new_phone[0]) == 3 and new_phone[0].isnumeric())//\n",
    "    and  (len(new_phone[1]) == 3 and new_phone[1].isnumeric())//\n",
    "    and  (len(new_phone[2]) == 4 and new_phone[2].isnumeric()):\n",
    "    print('VALID')\n",
    "else:\n",
    "    print('INVALID')"
   ]
  }
 ],
 "metadata": {
  "hide_input": false,
  "kernelspec": {
   "display_name": "Python 3 (ipykernel)",
   "language": "python",
   "name": "python3"
  },
  "language_info": {
   "codemirror_mode": {
    "name": "ipython",
    "version": 3
   },
   "file_extension": ".py",
   "mimetype": "text/x-python",
   "name": "python",
   "nbconvert_exporter": "python",
   "pygments_lexer": "ipython3",
   "version": "3.9.12"
  }
 },
 "nbformat": 4,
 "nbformat_minor": 5
}
