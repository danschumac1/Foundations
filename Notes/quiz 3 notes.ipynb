{
 "cells": [
  {
   "cell_type": "code",
   "execution_count": 1,
   "id": "0b1df904",
   "metadata": {},
   "outputs": [],
   "source": [
    "oFile = open('file.txt', 'w')\n",
    "oFile.write('1')\n",
    "oFile.write('2')\n",
    "oFile.write('3')\n",
    "oFile.close()\n",
    "\n",
    "tmp = 0\n",
    "iFile = open('file.txt')\n",
    "for line in iFile:\n",
    "    tmp += 1\n",
    "iFile.close()"
   ]
  },
  {
   "cell_type": "code",
   "execution_count": 2,
   "id": "0ab512cc",
   "metadata": {
    "scrolled": true
   },
   "outputs": [
    {
     "data": {
      "text/plain": [
       "1"
      ]
     },
     "execution_count": 2,
     "metadata": {},
     "output_type": "execute_result"
    }
   ],
   "source": [
    "tmp"
   ]
  },
  {
   "cell_type": "code",
   "execution_count": null,
   "id": "d595eeb6",
   "metadata": {},
   "outputs": [],
   "source": [
    "def add2numbers():\n",
    "    a = 1 + 2\n",
    "def test():\n",
    "    tmp = add2numbers()\n",
    "    return tmp\n",
    "\n",
    "for i in range(5):\n",
    "    add2numbers()\n",
    "    test()"
   ]
  },
  {
   "cell_type": "code",
   "execution_count": 3,
   "id": "e56ee7a0",
   "metadata": {},
   "outputs": [],
   "source": [
    "a = set()\n",
    "a.add( 1 )\n",
    "a.add( 1 )\n",
    "a.add( 2 )\n",
    "a.add( 3 )\n",
    "a.add( 3 )"
   ]
  },
  {
   "cell_type": "code",
   "execution_count": 4,
   "id": "f6a99f3b",
   "metadata": {},
   "outputs": [
    {
     "data": {
      "text/plain": [
       "{1, 2, 3}"
      ]
     },
     "execution_count": 4,
     "metadata": {},
     "output_type": "execute_result"
    }
   ],
   "source": [
    "a"
   ]
  },
  {
   "cell_type": "code",
   "execution_count": null,
   "id": "758a1c7f",
   "metadata": {},
   "outputs": [],
   "source": [
    "name = int(input('Whats your name'))"
   ]
  }
 ],
 "metadata": {
  "hide_input": false,
  "kernelspec": {
   "display_name": "Python 3 (ipykernel)",
   "language": "python",
   "name": "python3"
  },
  "language_info": {
   "codemirror_mode": {
    "name": "ipython",
    "version": 3
   },
   "file_extension": ".py",
   "mimetype": "text/x-python",
   "name": "python",
   "nbconvert_exporter": "python",
   "pygments_lexer": "ipython3",
   "version": "3.9.12"
  }
 },
 "nbformat": 4,
 "nbformat_minor": 5
}
