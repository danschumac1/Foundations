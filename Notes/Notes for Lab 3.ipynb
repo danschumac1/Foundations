{
 "cells": [
  {
   "cell_type": "markdown",
   "id": "a2422285",
   "metadata": {},
   "source": [
    "read file mbox.txt line by line and calculate and print the following\n",
    " 1. the total number of lines in the file\n",
    " 2. the number of lines that contain the substring \"From:\""
   ]
  },
  {
   "cell_type": "code",
   "execution_count": 11,
   "id": "c6ffea6d",
   "metadata": {},
   "outputs": [
    {
     "name": "stdout",
     "output_type": "stream",
     "text": [
      "Total lines: 132045\n",
      "\"From\" lines:  1797\n"
     ]
    }
   ],
   "source": [
    "#problem 1\n",
    "file_handle = open('mbox.txt')\n",
    "count = 0\n",
    "for line in file_handle:\n",
    "    count+=1\n",
    "print('Total lines:', count)\n",
    "\n",
    "#problem 2\n",
    "file_handle = open('mbox.txt')\n",
    "count = 0\n",
    "for line in file_handle:\n",
    "    if 'From:' in line:\n",
    "        count+=1\n",
    "\n",
    "#return results and close handle\n",
    "print('\"From\" lines: ', count)\n",
    "file_handle.close()"
   ]
  },
  {
   "cell_type": "code",
   "execution_count": 28,
   "id": "c9afd337",
   "metadata": {},
   "outputs": [
    {
     "name": "stdout",
     "output_type": "stream",
     "text": [
      "42\n",
      "18\n",
      "22\n",
      "18\n"
     ]
    }
   ],
   "source": [
    "#generates a 'numbers.txt' file to use.\n",
    "with open('./numbers.txt', 'w') as out_file:\n",
    "    out_file.write('42\\n18\\n22\\n18')\n",
    "    \n",
    "with open('numbers.txt', 'r') as in_file:\n",
    "    for row in in_file:\n",
    "        print(row.strip())"
   ]
  },
  {
   "cell_type": "code",
   "execution_count": 29,
   "id": "ee835815",
   "metadata": {},
   "outputs": [
    {
     "name": "stdout",
     "output_type": "stream",
     "text": [
      "42\n",
      "18\n",
      "22\n",
      "18\n",
      "SUM: 100\n"
     ]
    }
   ],
   "source": [
    "file_handle = open('numbers.txt', 'r')\n",
    "score = 0\n",
    "for line in file_handle:\n",
    "    score +=  int(line.strip())\n",
    "file_handle.close()\n",
    "\n",
    "file_handle = open('numbers.txt', 'a')\n",
    "file_handle.write(f'\\nSUM: {score}')\n",
    "file_handle.close()\n",
    "\n",
    "with open('numbers.txt', 'r') as in_file:\n",
    "    for row in in_file:\n",
    "        print(row.strip())\n",
    "file_handle.close()"
   ]
  },
  {
   "cell_type": "code",
   "execution_count": 40,
   "id": "f2a691f8",
   "metadata": {},
   "outputs": [],
   "source": [
    "def payday(hoursWorks, dollarsPerHour):\n",
    "    overTime = 0\n",
    "    if hoursWorks > 40:\n",
    "        overTime = hoursWorks-40\n",
    "        hoursWorks = 40\n",
    "    pay = (hoursWorks*dollarsPerHour) + (overTime*1.5*dollarsPerHour)\n",
    "    return(pay)"
   ]
  },
  {
   "cell_type": "code",
   "execution_count": 45,
   "id": "38dcdfe3",
   "metadata": {},
   "outputs": [
    {
     "name": "stdout",
     "output_type": "stream",
     "text": [
      "Asserts completed successfully\n"
     ]
    }
   ],
   "source": [
    "retVal = payday(2, 10)\n",
    "assert(retVal == 20)\n",
    "\n",
    "retVal = payday(41, 10)\n",
    "assert(retVal != 410)\n",
    "\n",
    "print('Asserts completed successfully')"
   ]
  },
  {
   "cell_type": "code",
   "execution_count": null,
   "id": "14b067b4",
   "metadata": {},
   "outputs": [],
   "source": [
    "# Hash take something and convert to an integer."
   ]
  },
  {
   "cell_type": "code",
   "execution_count": 47,
   "id": "1e91844e",
   "metadata": {},
   "outputs": [],
   "source": [
    "big_list = list(range(1000000))\n",
    "big_set = set(range(1000000))"
   ]
  },
  {
   "cell_type": "code",
   "execution_count": 49,
   "id": "6d7070cb",
   "metadata": {},
   "outputs": [],
   "source": [
    "for i in range(1000000):\n",
    "    if -1 in big_set:\n",
    "        print(\"FOUND\")"
   ]
  },
  {
   "cell_type": "code",
   "execution_count": 50,
   "id": "0ef5fb72",
   "metadata": {},
   "outputs": [],
   "source": [
    "risk_lexicon = set(['danger', 'concern', 'risk', 'risky', 'doubt'])\n",
    "text = \"CocaCola is a risky RISKY investment !!!!\""
   ]
  },
  {
   "cell_type": "code",
   "execution_count": 63,
   "id": "57fcea00",
   "metadata": {},
   "outputs": [
    {
     "name": "stdout",
     "output_type": "stream",
     "text": [
      "Risk Cout: 2\n"
     ]
    }
   ],
   "source": [
    "count = 0\n",
    "for item in risk_lexicon:\n",
    "    for word in text.split():\n",
    "        if item.lower() == word.lower(): count +=1\n",
    "print('Risk Cout:', count)"
   ]
  },
  {
   "cell_type": "code",
   "execution_count": 54,
   "id": "fdd4133f",
   "metadata": {},
   "outputs": [
    {
     "name": "stdout",
     "output_type": "stream",
     "text": [
      "3\n"
     ]
    }
   ],
   "source": [
    "print(count)"
   ]
  },
  {
   "cell_type": "code",
   "execution_count": 64,
   "id": "0f8db45a",
   "metadata": {},
   "outputs": [
    {
     "name": "stdout",
     "output_type": "stream",
     "text": [
      "Uni\n"
     ]
    }
   ],
   "source": [
    "A = \"University of Texas at San Antonio\"\n",
    "\n",
    "print( A[:3] )"
   ]
  },
  {
   "cell_type": "code",
   "execution_count": 67,
   "id": "24a2263e",
   "metadata": {},
   "outputs": [
    {
     "name": "stdout",
     "output_type": "stream",
     "text": [
      "2\n",
      "4\n",
      "8\n",
      "16\n",
      "32\n"
     ]
    }
   ],
   "source": [
    "n = 1\n",
    "while( n < 20 ):\n",
    "    n = n * 2\n",
    "    print(n)\n"
   ]
  },
  {
   "cell_type": "code",
   "execution_count": 72,
   "id": "cd39dcc9",
   "metadata": {},
   "outputs": [],
   "source": [
    "A = \"abcdef\"\n",
    "for i in range(len(A)):\n",
    "    if i == 'c' or i == 'd' or i == 'e':\n",
    "        print(A[i])"
   ]
  }
 ],
 "metadata": {
  "hide_input": false,
  "kernelspec": {
   "display_name": "Python 3 (ipykernel)",
   "language": "python",
   "name": "python3"
  },
  "language_info": {
   "codemirror_mode": {
    "name": "ipython",
    "version": 3
   },
   "file_extension": ".py",
   "mimetype": "text/x-python",
   "name": "python",
   "nbconvert_exporter": "python",
   "pygments_lexer": "ipython3",
   "version": "3.9.12"
  }
 },
 "nbformat": 4,
 "nbformat_minor": 5
}
