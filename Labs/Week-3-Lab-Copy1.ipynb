{
 "cells": [
  {
   "cell_type": "markdown",
   "metadata": {},
   "source": [
    "# Week 3 Lab Exercises\n",
    "\n",
    "Blank notebook to be used for class exercises."
   ]
  },
  {
   "cell_type": "markdown",
   "metadata": {},
   "source": [
    "## Exercise 1\n",
    "\n",
    "Read the file “mbox.txt” line-by-line and calculate and print the following:\n",
    "\n",
    "- The total number of lines in the file.\n",
    "- The number of lines that contain the substring “From:”"
   ]
  },
  {
   "cell_type": "code",
   "execution_count": 12,
   "metadata": {},
   "outputs": [
    {
     "name": "stdout",
     "output_type": "stream",
     "text": [
      "total line count:  132045\n",
      "Line count with substring \"From:\" :  3594\n"
     ]
    }
   ],
   "source": [
    "# Prints the total number of lines\n",
    "fhand = open('mbox.txt')\n",
    "count = 0\n",
    "for line in fhand:\n",
    "    count+=1\n",
    "print('total line count: ', count)\n",
    "\n",
    "#prints the number of lines that contain the substring \"From\"\n",
    "fhand = open('mbox.txt')\n",
    "count = 0\n",
    "for line in fhand:\n",
    "    # line = line.rstrip()                #do you need this?\n",
    "    if line.startswith('From'):\n",
    "        count +=1\n",
    "print('Line count with substring \"From:\" : ', count)"
   ]
  },
  {
   "cell_type": "markdown",
   "metadata": {},
   "source": [
    "## Exercise 2\n",
    "\n",
    "Write code that reads the file line-by-line numbers.txt, then does thefollowing:\n",
    "- Sum all the numbers in numbers.txt, then prints the numbers to thescreen.\n",
    "\n",
    "Next, append the string \"SUM: k\", wherekis the calculated sum. to the end of numbers.txt as a new line.\n",
    "\n",
    "Finally, print the entire file to make sure you appended to the file correctly.\n",
    "\n",
    "The absolute path for the file is \"../data/numbers.txt\"\n",
    "\n",
    "**Important Python concepts:** for, open ('a' and 'r'), write(), print()"
   ]
  },
  {
   "cell_type": "code",
   "execution_count": 113,
   "metadata": {},
   "outputs": [
    {
     "name": "stdout",
     "output_type": "stream",
     "text": [
      "42\n",
      "18\n",
      "22\n",
      "18\n"
     ]
    }
   ],
   "source": [
    "# If you mess up the file and need to try again, run this cell again to recreate the file\n",
    "with open('./numbers.txt', 'w') as out_file:\n",
    "    out_file.write('42\\n18\\n22\\n18')\n",
    "    \n",
    "with open('numbers.txt', 'r') as in_file:\n",
    "    for row in in_file:\n",
    "        print(row.strip())"
   ]
  },
  {
   "cell_type": "code",
   "execution_count": 114,
   "metadata": {},
   "outputs": [
    {
     "name": "stdout",
     "output_type": "stream",
     "text": [
      "42\n",
      "\n",
      "18\n",
      "\n",
      "22\n",
      "\n",
      "18\n",
      "\n",
      "SUM: 100\n"
     ]
    }
   ],
   "source": [
    "# WRITE CODE HERE\n",
    "fhand = open('numbers.txt')\n",
    "score = 0\n",
    "\n",
    "for line in fhand:\n",
    "    score = score + int(line)\n",
    "\n",
    "fhand = open('numbers.txt', 'a')\n",
    "fhand.write(f'\\nSUM: {score}')"
   ]
  },
  {
   "cell_type": "markdown",
   "metadata": {},
   "source": [
    "Run the line below to check your work"
   ]
  },
  {
   "cell_type": "code",
   "execution_count": 115,
   "metadata": {},
   "outputs": [
    {
     "name": "stdout",
     "output_type": "stream",
     "text": [
      "42\n",
      "18\n",
      "22\n",
      "18\n",
      "SUM: 100\n"
     ]
    }
   ],
   "source": [
    "with open('numbers.txt', 'r') as in_file:\n",
    "    for row in in_file:\n",
    "        print(row.strip())"
   ]
  },
  {
   "cell_type": "markdown",
   "metadata": {},
   "source": [
    "## Exercise 3\n",
    "\n",
    "Write a function to calculate your pay given two arguments: hoursWorks and dollarsPerHour. The function should return how much you should be paid. When calculating the final amount, give the employee 1.5 times the hourly rate for hours worked above 40 hours.\n"
   ]
  },
  {
   "cell_type": "code",
   "execution_count": 117,
   "metadata": {},
   "outputs": [],
   "source": [
    "# Test arguments\n",
    "hours = 45 # You worked for 45 hours\n",
    "pay = 10 # You make 10 dollars and hour"
   ]
  },
  {
   "cell_type": "code",
   "execution_count": 118,
   "metadata": {},
   "outputs": [],
   "source": [
    "def yourPay (hoursWorks, dollarsPerHour):\n",
    "    if hoursWorks > 40:\n",
    "        overTime = hoursWorks - 40\n",
    "        hoursWorks = 40\n",
    "    paycheck = (hoursWorks*pay) + (overTime * 1.5 * pay)\n",
    "    return(paycheck)"
   ]
  },
  {
   "cell_type": "code",
   "execution_count": 119,
   "metadata": {},
   "outputs": [
    {
     "data": {
      "text/plain": [
       "475.0"
      ]
     },
     "execution_count": 119,
     "metadata": {},
     "output_type": "execute_result"
    }
   ],
   "source": [
    "yourPay(hours,pay)"
   ]
  },
  {
   "cell_type": "markdown",
   "metadata": {},
   "source": [
    "## Exercise 4\n",
    "\n",
    "Create Asserts to test your code from Exercise 2. Specifically, test the following test cases:\n",
    "\n",
    "- Check whether the functions outputs 20 with inputs hoursWorks = 2 and dollarsPerHour = 10.\n",
    "- Check whether the function does **not** output 410 if hoursWorks = 41 and dollarsPerHour = 10.\n",
    "\n",
    "After all cases are passed successfully, print \"Asserts Completed Successfully\"."
   ]
  },
  {
   "cell_type": "code",
   "execution_count": 1,
   "metadata": {},
   "outputs": [],
   "source": [
    "hours = 45\n",
    "pay = 10"
   ]
  },
  {
   "cell_type": "markdown",
   "metadata": {},
   "source": [
    "## Exercise 5\n",
    "\n",
    "Write code to count the number of times a \"risk\" word appears from the \"risk_lexicon\" in the string variable named \"text.\" Please ignore case (i.e., you should lowercase everything). Lexicon-based analysis is popular because it quantifies various aspects of language.\n",
    "\n",
    "The output of your code should look like the following:\n",
    "\n",
    "```\n",
    "Risk Count: 2\n",
    "```\n",
    "\n",
    "**HINT:** This exercise will require the use of a **for loop**, an **if statement**, and the string operations **.lower() and .split(\" \")**."
   ]
  },
  {
   "cell_type": "code",
   "execution_count": 1,
   "metadata": {},
   "outputs": [],
   "source": [
    "risk_lexicon = set(['danger', 'concern', 'risk', 'risky', 'doubt'])\n",
    "text = \"CocaCola is a risky RISKY investment !!!!\"\n",
    "\n",
    "# Write code here"
   ]
  }
 ],
 "metadata": {
  "hide_input": false,
  "kernelspec": {
   "display_name": "Python 3 (ipykernel)",
   "language": "python",
   "name": "python3"
  },
  "language_info": {
   "codemirror_mode": {
    "name": "ipython",
    "version": 3
   },
   "file_extension": ".py",
   "mimetype": "text/x-python",
   "name": "python",
   "nbconvert_exporter": "python",
   "pygments_lexer": "ipython3",
   "version": "3.9.12"
  }
 },
 "nbformat": 4,
 "nbformat_minor": 4
}
