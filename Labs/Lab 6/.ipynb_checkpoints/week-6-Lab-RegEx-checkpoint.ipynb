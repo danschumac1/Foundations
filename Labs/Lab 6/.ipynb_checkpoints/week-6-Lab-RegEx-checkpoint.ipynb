{
 "cells": [
  {
   "cell_type": "markdown",
   "metadata": {},
   "source": [
    "# Week 6 Lab Exercises\n",
    "\n",
    "Blank notebook to be used for class exercises.\n",
    "\n",
    "Name: Dan Schumacher\n",
    "\n",
    "abc123: hdd249"
   ]
  },
  {
   "cell_type": "markdown",
   "metadata": {},
   "source": [
    "## Exercise 1\n",
    "\n",
    "Write code to loop over mbox.txt and counts, and prints, the number of lines thatc ontain the “From:” substring.  Use the **re** package for this exercise.\n",
    "\n",
    "file path: \"./mbox.txt\""
   ]
  },
  {
   "cell_type": "code",
   "execution_count": 94,
   "metadata": {},
   "outputs": [
    {
     "name": "stdout",
     "output_type": "stream",
     "text": [
      "1797\n"
     ]
    }
   ],
   "source": [
    "import re\n",
    "\n",
    "mbox = open('mbox.txt')\n",
    "from_count = 0\n",
    "for line in mbox:\n",
    "    if re.search('^From:',line):\n",
    "        from_count += 1\n",
    "        \n",
    "\n",
    "print(from_count)"
   ]
  },
  {
   "cell_type": "markdown",
   "metadata": {},
   "source": [
    "## Exercise 2\n",
    "\n",
    "Write a program to look for lines of the form in the “mbox.txt” file:\n",
    "\n",
    "New Revision:  39772\n",
    "\n",
    "Extract the number from each of the lines using a regular expression andthe findall() method.  Compute and print the average of the numbers.\n",
    "\n",
    "file path: \"./mbox.txt\""
   ]
  },
  {
   "cell_type": "code",
   "execution_count": 95,
   "metadata": {},
   "outputs": [
    {
     "name": "stdout",
     "output_type": "stream",
     "text": [
      "Mean New Revision: 38549.79\n"
     ]
    }
   ],
   "source": [
    "import re\n",
    "\n",
    "mbox = open('mbox.txt')\n",
    "new_rev_list = []\n",
    "\n",
    "for line in mbox:\n",
    "    line = line.rstrip()\n",
    "    new_rev = re.findall('^New Revision: (\\d+)', line)\n",
    "    if len(new_rev) > 0:\n",
    "        new_rev_list.append(int(new_rev[0]))\n",
    "        \n",
    "mean_rev = sum(new_rev_list)/len(new_rev_list)\n",
    "print(f'Mean New Revision: {round(mean_rev,2)}')\n"
   ]
  },
  {
   "cell_type": "markdown",
   "metadata": {},
   "source": [
    "## Exercise 3\n",
    "\n",
    "For the following string:\n",
    "\n",
    "text = \"any machine with more than 6 GHz and 500 GB of disk space for less than \\$999.99\"\n",
    "\n",
    "Develop a regular expression that will extract **all** of the following information:\n",
    "- 6 GHz\n",
    "- 500 GB\n",
    "- Mac\n",
    "- $999.99\n",
    "\n",
    "Hint: Use re.findall\n",
    "\n",
    "NOTE: You should have code that is general (e.g., the regex would extrac \"Mac\" even though it does not appear in the string)"
   ]
  },
  {
   "cell_type": "code",
   "execution_count": 96,
   "metadata": {},
   "outputs": [],
   "source": [
    "text = \"any machine with more than 6 GHz and 500 GB of disk space for less than $999.99\""
   ]
  },
  {
   "cell_type": "code",
   "execution_count": 99,
   "metadata": {},
   "outputs": [
    {
     "name": "stdout",
     "output_type": "stream",
     "text": [
      "GHz: ['6'] \n",
      "GB: ['500'] \n",
      "Mac [] \n",
      "Price: ['$999.99']\n"
     ]
    }
   ],
   "source": [
    "import re\n",
    "\n",
    "for line in text:\n",
    "    GHz = re.findall('(\\d+)\\s[Gg][Hh][Zz]\\s', text)\n",
    "    GB = re.findall('(\\d+)\\s[Gg][Bb]\\s', text)\n",
    "    Mac = re.findall('\\s[mM]ac\\s', text)\n",
    "    price = re.findall('\\$\\d+\\.\\d+', text)\n",
    "\n",
    "print('GHz:', GHz,\n",
    "     '\\nGB:', GB,\n",
    "     '\\nMac', Mac,\n",
    "     '\\nPrice:', price)"
   ]
  },
  {
   "cell_type": "code",
   "execution_count": 98,
   "metadata": {},
   "outputs": [
    {
     "data": {
      "text/plain": [
       "['6 GHz', '500 GB', '$999.99']"
      ]
     },
     "execution_count": 98,
     "metadata": {},
     "output_type": "execute_result"
    }
   ],
   "source": [
    "# Teacher Solution\n",
    "\n",
    "re.findall(r\"[0-9] [Gg][Hh]z|[0-9]+ [Gg][Bb]|Mac|\\$[0-9]+(?:\\.[0-9]{2,2})?\",text)"
   ]
  },
  {
   "cell_type": "markdown",
   "metadata": {},
   "source": [
    "## Exercise 4\n",
    "\n",
    "Complete the lessons available at https://regexone.com/. Take a screenshot when you finish, and uplaod it along with this lab file."
   ]
  }
 ],
 "metadata": {
  "hide_input": false,
  "kernelspec": {
   "display_name": "Python 3 (ipykernel)",
   "language": "python",
   "name": "python3"
  },
  "language_info": {
   "codemirror_mode": {
    "name": "ipython",
    "version": 3
   },
   "file_extension": ".py",
   "mimetype": "text/x-python",
   "name": "python",
   "nbconvert_exporter": "python",
   "pygments_lexer": "ipython3",
   "version": "3.9.12"
  }
 },
 "nbformat": 4,
 "nbformat_minor": 4
}
