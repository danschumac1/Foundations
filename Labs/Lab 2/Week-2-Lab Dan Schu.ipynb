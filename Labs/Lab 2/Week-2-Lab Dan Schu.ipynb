{
 "cells": [
  {
   "cell_type": "markdown",
   "metadata": {},
   "source": [
    "# Python as a Programming Language\n",
    "\n",
    "Blank notebook to be used for lab\n",
    "exercises.\n",
    "\n",
    "**Name**: Dan Schumacher\n",
    "\n",
    "**abc123**: hdd249"
   ]
  },
  {
   "cell_type": "markdown",
   "metadata": {},
   "source": [
    "## Exercise 1: Putting it all together\n",
    "\n",
    "Write a program that does the following:\n",
    "\n",
    "- Prints the numbers 1 to 100\n",
    "- For the  numbers 10 to 25 (including 10 and 25), instead of printing the number, print the word \"cheese\".\n",
    "- For numbers 55 to 100 (including 55, but not including 100), instead of printing the number, print the word \"cake\".\n",
    "- For 100 print the word \"Done!\".\n",
    "\n",
    "**Important Python concepts:** print(), if, elif, else, for"
   ]
  },
  {
   "cell_type": "code",
   "execution_count": 6,
   "metadata": {},
   "outputs": [
    {
     "name": "stdout",
     "output_type": "stream",
     "text": [
      "1\n",
      "2\n",
      "3\n",
      "4\n",
      "5\n",
      "6\n",
      "7\n",
      "8\n",
      "9\n",
      "cheese\n",
      "cheese\n",
      "cheese\n",
      "cheese\n",
      "cheese\n",
      "cheese\n",
      "cheese\n",
      "cheese\n",
      "cheese\n",
      "cheese\n",
      "cheese\n",
      "cheese\n",
      "cheese\n",
      "cheese\n",
      "cheese\n",
      "cheese\n",
      "26\n",
      "27\n",
      "28\n",
      "29\n",
      "30\n",
      "31\n",
      "32\n",
      "33\n",
      "34\n",
      "35\n",
      "36\n",
      "37\n",
      "38\n",
      "39\n",
      "40\n",
      "41\n",
      "42\n",
      "43\n",
      "44\n",
      "45\n",
      "46\n",
      "47\n",
      "48\n",
      "49\n",
      "50\n",
      "51\n",
      "52\n",
      "53\n",
      "54\n",
      "cake\n",
      "cake\n",
      "cake\n",
      "cake\n",
      "cake\n",
      "cake\n",
      "cake\n",
      "cake\n",
      "cake\n",
      "cake\n",
      "cake\n",
      "cake\n",
      "cake\n",
      "cake\n",
      "cake\n",
      "cake\n",
      "cake\n",
      "cake\n",
      "cake\n",
      "cake\n",
      "cake\n",
      "cake\n",
      "cake\n",
      "cake\n",
      "cake\n",
      "cake\n",
      "cake\n",
      "cake\n",
      "cake\n",
      "cake\n",
      "cake\n",
      "cake\n",
      "cake\n",
      "cake\n",
      "cake\n",
      "cake\n",
      "cake\n",
      "cake\n",
      "cake\n",
      "cake\n",
      "cake\n",
      "cake\n",
      "cake\n",
      "cake\n",
      "cake\n",
      "Done!\n"
     ]
    }
   ],
   "source": [
    "# Write code here\n",
    "i=1\n",
    "while i <=100:\n",
    "    if i >=10 and i <=25:\n",
    "        print('cheese')\n",
    "    elif i >= 55 and i < 100:\n",
    "        print('cake')\n",
    "    elif i == 100:\n",
    "        print('Done!')\n",
    "    else:\n",
    "        print(i)\n",
    "    i+=1"
   ]
  },
  {
   "cell_type": "markdown",
   "metadata": {},
   "source": [
    "## Exercise 2\n",
    "\n",
    "Write a program which repeatedly reads numbers until the user enters “done”. Once “done” is entered, print out the total, count, and average of the numbers. If the user enters anything other than a number, detect their mistake using try and except and print an error message and skip to the next number.\n",
    "\n",
    "What the code should look like when running:\n",
    "```\n",
    "Enter a number: 4\n",
    "Enter a number: 5\n",
    "Enter a number: bad data\n",
    "Invalid input\n",
    "Enter a number: 7\n",
    "Enter a number: done\n",
    "16 3 5.33333333333\n",
    "```\n",
    "\n",
    "**Important Python concepts:** print(), try, except, break, while"
   ]
  },
  {
   "cell_type": "code",
   "execution_count": 20,
   "metadata": {},
   "outputs": [
    {
     "name": "stdout",
     "output_type": "stream",
     "text": [
      "Please enter numbers one at a time, when done, type \"done\"\n",
      "Enter a number: 3\n",
      "Enter a number: 4\n",
      "Enter a number: 5\n",
      "Enter a number: 6\n",
      "Enter a number: 2\n",
      "Enter a number: 234\n",
      "Enter a number: done\n",
      "\n",
      "total: 254.00\n",
      "count: 6.00\n",
      "mean: 42.33\n"
     ]
    }
   ],
   "source": [
    "#set vars we will be using\n",
    "answer = None\n",
    "calculations_list = []\n",
    "\n",
    "#directions for user\n",
    "print('Please enter numbers one at a time, when done, type \"done\"')\n",
    "\n",
    "\n",
    "while answer != 'done':\n",
    "    answer = input('Enter a number: ')\n",
    "    if answer == 'done':\n",
    "        break\n",
    "    try:\n",
    "        answer = float(answer)\n",
    "    except:\n",
    "        print('please enter numeric input')\n",
    "        continue #is this necesary? \n",
    "    else:\n",
    "        calculations_list.append(answer)\n",
    "        \n",
    "total = sum(calculations_list)\n",
    "count = len(calculations_list)\n",
    "mean = total/count\n",
    "\n",
    "print('\\ntotal: {:.2f}\\ncount: {:.2f}\\nmean: {:.2f}'.format(total,count,mean))\n"
   ]
  },
  {
   "cell_type": "markdown",
   "metadata": {},
   "source": [
    "## Exercise 3\n",
    "\n",
    "Write a program that counts how many times each letter appears in a string. The counts for each character should be stored in a dictionary where the character is the key and the value is the count. Print the dictionary at the end.\n",
    "\n",
    "Given the string **'aaabbc'**, the output should be a dictionary **{'a':3, 'b':2, 'c':1}**.\n",
    "\n",
    "We are effectively computing a histogram, which is a statistical term for a set of counters (or frequencies).\n",
    "\n",
    "**Important Python concepts:** dict ({}), for"
   ]
  },
  {
   "cell_type": "code",
   "execution_count": null,
   "metadata": {},
   "outputs": [],
   "source": [
    "# Write code to count the number of times each character appears in \"brontosaurus\" here"
   ]
  },
  {
   "cell_type": "code",
   "execution_count": 19,
   "metadata": {},
   "outputs": [
    {
     "name": "stdout",
     "output_type": "stream",
     "text": [
      "b :  1\n",
      "r :  2\n",
      "o :  2\n",
      "n :  1\n",
      "t :  1\n",
      "s :  2\n",
      "a :  1\n",
      "u :  2\n"
     ]
    }
   ],
   "source": [
    "word = 'brontosaurus'\n",
    "dictionary = {}\n",
    "value = 0\n",
    "\n",
    "for letter in word:\n",
    "    dictionary[letter] = dictionary.get(letter, 0) + 1\n",
    "\n",
    "for item in dictionary:\n",
    "    print(item,': ',dictionary[item])"
   ]
  }
 ],
 "metadata": {
  "hide_input": false,
  "kernelspec": {
   "display_name": "Python 3 (ipykernel)",
   "language": "python",
   "name": "python3"
  },
  "language_info": {
   "codemirror_mode": {
    "name": "ipython",
    "version": 3
   },
   "file_extension": ".py",
   "mimetype": "text/x-python",
   "name": "python",
   "nbconvert_exporter": "python",
   "pygments_lexer": "ipython3",
   "version": "3.9.12"
  }
 },
 "nbformat": 4,
 "nbformat_minor": 4
}
