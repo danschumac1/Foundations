{
 "cells": [
  {
   "cell_type": "code",
   "execution_count": 1,
   "id": "9c742dfe",
   "metadata": {},
   "outputs": [
    {
     "name": "stdout",
     "output_type": "stream",
     "text": [
      "A 1\n",
      "B 2\n",
      "A 0\n",
      "B 2\n"
     ]
    }
   ],
   "source": [
    "nest = {'1': {'A':1,'B':2},\n",
    "       '2': {'A':0,'B':2}}\n",
    "\n",
    "for k,v in nest.items():\n",
    "    for k1,v1 in v.items():\n",
    "        print(k1,v1)"
   ]
  },
  {
   "cell_type": "code",
   "execution_count": 18,
   "id": "854913d0",
   "metadata": {},
   "outputs": [
    {
     "ename": "FileNotFoundError",
     "evalue": "[Errno 2] No such file or directory: 'file.txt'",
     "output_type": "error",
     "traceback": [
      "\u001b[1;31m---------------------------------------------------------------------------\u001b[0m",
      "\u001b[1;31mFileNotFoundError\u001b[0m                         Traceback (most recent call last)",
      "Input \u001b[1;32mIn [18]\u001b[0m, in \u001b[0;36m<cell line: 1>\u001b[1;34m()\u001b[0m\n\u001b[1;32m----> 1\u001b[0m myFile \u001b[38;5;241m=\u001b[39m \u001b[38;5;28;43mopen\u001b[39;49m\u001b[43m(\u001b[49m\u001b[38;5;124;43m'\u001b[39;49m\u001b[38;5;124;43mfile.txt\u001b[39;49m\u001b[38;5;124;43m'\u001b[39;49m\u001b[43m)\u001b[49m\n\u001b[0;32m      3\u001b[0m \u001b[38;5;28;01mfor\u001b[39;00m line \u001b[38;5;129;01min\u001b[39;00m myFile:\n\u001b[0;32m      4\u001b[0m     \u001b[38;5;28mprint\u001b[39m(\u001b[38;5;28mrepr\u001b[39m(line))\n",
      "\u001b[1;31mFileNotFoundError\u001b[0m: [Errno 2] No such file or directory: 'file.txt'"
     ]
    }
   ],
   "source": [
    "myFile = open('file.txt')\n",
    "\n",
    "for line in myFile:\n",
    "    print(repr(line))\n",
    "\n",
    "print('\\n')\n",
    "\n",
    "for line in myFile:\n",
    "    print(line.strip())\n",
    "\n",
    "myFile.close()"
   ]
  },
  {
   "cell_type": "code",
   "execution_count": 23,
   "id": "9c9fd785",
   "metadata": {},
   "outputs": [],
   "source": [
    "outFile = open(\"new_file.txt\",'w')\n",
    "outFile.write('BLAH1\\n')\n",
    "outFile.write('BLAH2\\n')\n",
    "outFile.write('BLAH3\\n')\n",
    "outFile.write('BLAH4\\n')\n",
    "\n",
    "\n",
    "outFile.close()"
   ]
  },
  {
   "cell_type": "code",
   "execution_count": 26,
   "id": "771f95c8",
   "metadata": {},
   "outputs": [],
   "source": [
    "aFile = open('new_file.txt', 'a')\n",
    "\n",
    "aFile.write('123')\n",
    "\n",
    "aFile.close()"
   ]
  }
 ],
 "metadata": {
  "hide_input": false,
  "kernelspec": {
   "display_name": "Python 3 (ipykernel)",
   "language": "python",
   "name": "python3"
  },
  "language_info": {
   "codemirror_mode": {
    "name": "ipython",
    "version": 3
   },
   "file_extension": ".py",
   "mimetype": "text/x-python",
   "name": "python",
   "nbconvert_exporter": "python",
   "pygments_lexer": "ipython3",
   "version": "3.9.12"
  }
 },
 "nbformat": 4,
 "nbformat_minor": 5
}
