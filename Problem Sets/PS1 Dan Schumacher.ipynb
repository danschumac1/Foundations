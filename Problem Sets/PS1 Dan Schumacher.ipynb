{
 "cells": [
  {
   "cell_type": "markdown",
   "metadata": {},
   "source": [
    "**Name**: Dan Schumacher\n",
    "\n",
    "**abc123**: hdd249\n",
    "\n",
    "Remember, it is okay to talk to your classmates about the homework, but do not share solutions. You should complete the homework on your own. Below, please list all of your peers (\"collaborators\") that you discussed the homework with.\n",
    "\n",
    "**Colaborators**:\n",
    "- Name 1\n",
    "- Name 2\n",
    "- Name 3\n",
    "\n",
    "# Problem Set 1 (PS 1)\n",
    "\n",
    "Complete the 4 functions as directed to:\n",
    "\n",
    "- validate the format of a string\n",
    "- compute probabilities and store them in a lookup table (dictionary)\n",
    "- generate a string deterministically based on a given string\n",
    "\n",
    "Each function is worth 1 to 4 points, for a total of 10 points. Other assignments will be more complicated, and worth more points, for this I just want to make sure you are in the correct course. I care mainly about correctness of the implementation, but reserve the right to deduct points for code that is difficult to read.\n",
    "\n",
    "This assignment will test your skills at implementing algorithms in Python from scratch. If this is your first experience with traditional programming assignments, then it may take some time to figure everything out. Please schedule time to meet with me if you need help. I recommend you start early. For others with significant programming experience, it will not take long.\n",
    "\n",
    "## Submission Instructions\n",
    "\n",
    "After completing the exercises below, generate a PDF *or* HTML of the code **with** outputs. Then, create a zip file containing both the completed exercise and the generated PDF/HTML. You are **required** to check the PDF/HTML to make sure all the code **and** outputs are clearly visible and easy to read. If your code goes off the page, you should reduce the line size. I generally recommend not going over 80 characters.\n",
    "\n",
    "Finally, name the zip file using a combination of the assigment ID and your name, e.g., ps1_rios.zip. Submit your homework on Blackboard.\n",
    "\n",
    "## Preliminary Information\n",
    "\n",
    "For the homework exercises, you will need to write code in the specified functions. The variable specified in the open and close parenthesis \"my_function(**variable_name**)\" of the function should **NOT** be reassigned. They will hold important information---such as the string you should process---which is required to complete each task. Your job is to write code that returns the required value for each exercise. \n",
    "\n",
    "Please refer to the example below to understand how functions work in python:\n",
    "```python\n",
    "def my_function(my_variable):\n",
    "    # Your code goes here\n",
    "    print(\"The parameter is {}\".format(my_variable))\n",
    "    new_variable = my_variable + 100\n",
    "    return new_variable\n",
    "\n",
    "# my_variable in my_function() will be assigned 42.\n",
    "return_value = my_function(42) # return value will be asigned the value given by the \"return\" in my_function()\n",
    "print(\"The function returned the value {}\".format(return_value))\n",
    "```\n",
    "\n",
    "If you run the code above, you will get the following output:\n",
    "```\n",
    "The parameter is 42\n",
    "The function returned the value 142\n",
    "```\n",
    "\n",
    "Please note that you do **NOT** need to create new functions. The functions have already been specified. You simply need to fill them out with code. "
   ]
  },
  {
   "cell_type": "markdown",
   "metadata": {},
   "source": [
    "## Exercise 1 (4 points)"
   ]
  },
  {
   "cell_type": "markdown",
   "metadata": {},
   "source": [
    "Checks whether the string is a valid employee ID. An employee ID is valid if and only if it consists only of 6-10 alphabetic characters (letters), followed by 2 numeric digits. Implement the validation  **without** any external libraries (i.e., do not use the \"re\" package). You may use the .isalpha() and .isdigit() methods, variables, standard data structures such as lists, if statements, loops, etc."
   ]
  },
  {
   "cell_type": "code",
   "execution_count": 1,
   "metadata": {},
   "outputs": [
    {
     "name": "stdout",
     "output_type": "stream",
     "text": [
      "True\n",
      "False\n",
      "True\n",
      "False\n",
      "12\n"
     ]
    }
   ],
   "source": [
    "# Example use of .isalpha() and .isdigit(). This code is just to help, you can delete this cell if you want.\n",
    "print(\"32\".isdigit()) # if the string is a digit, .isdigit() will return True, otherwise it returns false\n",
    "print(\"lkjsdaf\".isdigit()) # Here is an example of .isdigit() returning False\n",
    "print(\"lskdjf\".isalpha()) # In this case we can check if all characters are \"alphabetic\" by using .isalpha() it returns True here.\n",
    "print(\"ab1\".isalpha()) # Here is an example of .isalpha() resulting in a False\n",
    "print(len(\"ALKJDSLKFJDS\")) # You can check how many characters are in a string by using the len() function.\n"
   ]
  },
  {
   "cell_type": "markdown",
   "metadata": {},
   "source": [
    "#### to summzarize\n",
    "1. 1-6 (up to 10) alpha\n",
    "2. end with 2 digits\n",
    " - My plan, is to check last 2 in string for numeric. Pop them then check len() and alpha of the rest"
   ]
  },
  {
   "cell_type": "code",
   "execution_count": 28,
   "metadata": {},
   "outputs": [
    {
     "name": "stdout",
     "output_type": "stream",
     "text": [
      "myFALSEstring: False\n",
      "myTRUEstring True\n",
      "asldf5hlaksjdh\n"
     ]
    },
    {
     "data": {
      "text/plain": [
       "True"
      ]
     },
     "execution_count": 28,
     "metadata": {},
     "output_type": "execute_result"
    }
   ],
   "source": [
    "myfalsestring = 'asldf5hlaksjdh!!'\n",
    "mytruestring = 'aslsdkjfh12'\n",
    "texttext = 'justtext'\n",
    "\n",
    "# grab the last 2 characters of string\n",
    "# then check them for their digit-ness\n",
    "print('myFALSEstring:',myfalsestring[::-1][0:2].isdigit())\n",
    "print('myTRUEstring',mytruestring[::-1][0:2].isdigit())\n",
    "\n",
    "# remove digits\n",
    "stop = len(myfalsestring) -2 \n",
    "myfalsestring  = myfalsestring[0:stop]\n",
    "print(myfalsestring)\n",
    "\n",
    "#check len\n",
    "len(myfalsestring)\n",
    "\n",
    "#check alpha\n",
    "myfalsestring.isalpha()\n",
    "texttext.isalpha()"
   ]
  },
  {
   "cell_type": "code",
   "execution_count": 29,
   "metadata": {},
   "outputs": [],
   "source": [
    "# Write code here. Do NOT delete this cell.\n",
    "def validate(s):\n",
    "    \n",
    "    # RULE 1: last 2 chars must be digits\n",
    "    rule1 = s[::-1][0:2].isdigit()\n",
    "    \n",
    "    # We are done with those digits so lets chop them (is this bad practice?)\n",
    "    stop = len(s) -2 \n",
    "    s  = s[0:stop]\n",
    "    \n",
    "    # RULE 2: length of remainder must be between 6 and 10 (inclusive)\n",
    "    if len(s) >= 6 and len(s) <=10:\n",
    "        rule2 = True\n",
    "    else:\n",
    "        rule2 = False\n",
    "    \n",
    "    # RULE 3: remainder of s must be alpha!\n",
    "    rule3 = s.isalpha()\n",
    "    \n",
    "    #check that all rules are true and return a T/F value\n",
    "    if rule1 and rule2 and rule3:\n",
    "        return True\n",
    "    else:\n",
    "        return False"
   ]
  },
  {
   "cell_type": "markdown",
   "metadata": {},
   "source": [
    "The lines below give example inputs and correct outputs using asserts, and can be run to test the code. Passing these tests is necessary, but **NOT** sufficient to guarantee your implementation is correct. You may add additional test cases, but do not remove any tests."
   ]
  },
  {
   "cell_type": "code",
   "execution_count": 37,
   "metadata": {},
   "outputs": [
    {
     "name": "stdout",
     "output_type": "stream",
     "text": [
      "Asserts Completed Successfully\n"
     ]
    }
   ],
   "source": [
    "#teacher asserts\n",
    "assert(validate('AbcdEf00') == True)\n",
    "assert(validate('$0RQLpCHz49') == False)\n",
    "\n",
    "#ones I added the check\n",
    "assert(validate('$asldf5hlaksjdh!!') == False)\n",
    "assert(validate('AaBb123') == False)\n",
    "assert(validate('$AaBb!!123') == False)\n",
    "assert(validate('$AaBbCc123') == False)\n",
    "assert(validate('$AaBbCcd123') == False)\n",
    "assert(validate('$0RQLpCHz49') == False)\n",
    "\n",
    "print(\"Asserts Completed Successfully\")"
   ]
  },
  {
   "cell_type": "markdown",
   "metadata": {},
   "source": [
    "## Exercise 2 (3 points)\n",
    "\n",
    "Given a sequence of the DNA bases {A, C, G, T}, stored as a string, returns a probability table in a data structure such that one base can be looked up to get the probability p(base). More specifically, write code to return a dictionary such that the value for each key is the probably of that key occuring the the string. For example, give the string \"abb\", p(a) is equal to $\\frac{1}{3}$ and p(b) is $\\frac{2}{3}$ Simply, divide the number of times each character appears by the total number of characters. So, the code should return the following dictionary:\n",
    "\n",
    "```{\"a\": 0.33333, \"b\": 0.6666}```\n",
    "\n",
    "You may use the collections module, but no other libraries."
   ]
  },
  {
   "cell_type": "code",
   "execution_count": 61,
   "metadata": {},
   "outputs": [
    {
     "name": "stdout",
     "output_type": "stream",
     "text": [
      "ATCGATTGAGCTCTAGCG\n",
      "0 {'A': 0, 'C': 0, 'G': 0, 'T': 0}\n",
      "{'A': 0.2222222222222222, 'C': 0.2222222222222222, 'G': 0.2777777777777778, 'T': 0.2777777777777778}\n"
     ]
    }
   ],
   "source": [
    "seq = 'ATCGATTGAGCTCTAGCG'\n",
    "\n",
    "# make sure that capitalization is consistant\n",
    "seq = seq.upper()\n",
    "\n",
    "# construct a dictionary that looks like this {A:0, C:0, G:0, T:0}\n",
    "dnaDict = {'A':0, 'C':0, 'G':0, 'T':0}\n",
    "\n",
    "# iterate through the string and count a,c,g,t\n",
    "for character in seq:\n",
    "    if character == 'A':\n",
    "        dnaDict['A'] +=1\n",
    "        \n",
    "    if character == 'C':\n",
    "        dnaDict['C'] +=1\n",
    "        \n",
    "    if character == 'G':\n",
    "        dnaDict['G'] +=1\n",
    "        \n",
    "    if character == 'T':\n",
    "        dnaDict['T'] +=1\n",
    "\n",
    "# turn dictionary values into ratios. \n",
    "for key in dnaDict:\n",
    "    dnaDict[key] = dnaDict[key]/len(seq)\n",
    "# return ratio of base/len(seq)\n",
    "\n",
    "print(dnaDict)"
   ]
  },
  {
   "cell_type": "code",
   "execution_count": 62,
   "metadata": {},
   "outputs": [],
   "source": [
    "def dna_prob1(seq):\n",
    "    # make sure that capitalization is consistant\n",
    "    seq = seq.upper()\n",
    "\n",
    "    # construct a dictionary blank DNA dictionary\n",
    "    dnaDict = {'A':0, 'C':0, 'G':0, 'T':0}\n",
    "\n",
    "    # iterate through the string and count a,c,g, and t values\n",
    "    for character in seq:\n",
    "        if character == 'A':\n",
    "            dnaDict['A'] +=1\n",
    "\n",
    "        if character == 'C':\n",
    "            dnaDict['C'] +=1\n",
    "\n",
    "        if character == 'G':\n",
    "            dnaDict['G'] +=1\n",
    "\n",
    "        if character == 'T':\n",
    "            dnaDict['T'] +=1\n",
    "\n",
    "    # turn dictionary values into ratios. \n",
    "    for key in dnaDict:\n",
    "        dnaDict[key] = dnaDict[key]/len(seq)\n",
    "    \n",
    "    #return our ratio-dictionary\n",
    "    return(dnaDict)"
   ]
  },
  {
   "cell_type": "markdown",
   "metadata": {},
   "source": [
    "The lines below give example inputs and correct outputs using asserts, and can be run to test the code. Passing these tests is **NOT** sufficient to guarantee your implementation is correct. You may add additional test cases, but do not remove any tests."
   ]
  },
  {
   "cell_type": "code",
   "execution_count": 63,
   "metadata": {},
   "outputs": [
    {
     "name": "stdout",
     "output_type": "stream",
     "text": [
      "Asserts Completed Successfully\n"
     ]
    }
   ],
   "source": [
    "tbl = dna_prob1('ATCGATTGAGCTCTAGCG')\n",
    "assert(tbl['T'] == 5/18)\n",
    "assert(tbl['G'] == 5/18)\n",
    "assert(tbl['C'] == 4/18)\n",
    "print(\"Asserts Completed Successfully\")"
   ]
  },
  {
   "cell_type": "markdown",
   "metadata": {},
   "source": [
    "## Exercise 3 (3 points)\n",
    "Given a string representing a sequence of DNA bases, returns the paired sequence, also as a string, where A is always paired with T and C with G, i.e., replace A with T, T with A, ...\n",
    "\n",
    "Do not use any libraries.\n",
    "\n",
    "Hint: this can be done in one line. (More than one line is okay too.)"
   ]
  },
  {
   "cell_type": "code",
   "execution_count": 82,
   "metadata": {},
   "outputs": [],
   "source": [
    "conversion = {'A':'T',\n",
    "              'T':'A',\n",
    "              'C':'G',\n",
    "              'G':'C'}\n",
    "\n",
    "#for each item in seq, use dictionary above to grab oposite dna base. \n",
    "dna2 = ''.join([conversion[character] for character in dna1])"
   ]
  },
  {
   "cell_type": "code",
   "execution_count": 83,
   "metadata": {},
   "outputs": [
    {
     "data": {
      "text/plain": [
       "'TAGCTAACTCGAGATCGC'"
      ]
     },
     "execution_count": 83,
     "metadata": {},
     "output_type": "execute_result"
    }
   ],
   "source": [
    "dna2"
   ]
  },
  {
   "cell_type": "code",
   "execution_count": 72,
   "metadata": {},
   "outputs": [
    {
     "name": "stdout",
     "output_type": "stream",
     "text": [
      "[0, 4, 16, 36, 64, 100]\n"
     ]
    }
   ],
   "source": [
    "# logic is that:\n",
    "# A -> T\n",
    "# T-> A\n",
    "# C -> G\n",
    "# G -> C\n",
    "\n",
    "#simple list comprehension review\n",
    "#example 1\n",
    "mylist = [num**2 for num in range(0,11) if num%2==0]\n",
    "print(mylist)\n",
    "\n",
    "conversion = {'A':'T',\n",
    "              'T':'A',\n",
    "              'C':'G',\n",
    "              'G':'C'}\n",
    "\n",
    "#example 2\n",
    "celcius = [0,10,20,34.5]\n",
    "#fahrenheit = [((9/5) * temp + 32)]\n",
    "\n",
    "\n",
    "dna1 = 'ATCGATTGAGCTCTAGCG'\n",
    "dna2 = [letter for letter in dna1]"
   ]
  },
  {
   "cell_type": "code",
   "execution_count": 75,
   "metadata": {},
   "outputs": [
    {
     "name": "stdout",
     "output_type": "stream",
     "text": [
      "T\n",
      "A\n",
      "G\n",
      "C\n",
      "T\n",
      "A\n",
      "A\n",
      "C\n",
      "T\n",
      "C\n",
      "G\n",
      "A\n",
      "G\n",
      "A\n",
      "T\n",
      "C\n",
      "G\n",
      "C\n"
     ]
    }
   ],
   "source": [
    "converted = ''\n",
    "for character in dna1:\n",
    "    print(conversion[character])"
   ]
  },
  {
   "cell_type": "code",
   "execution_count": 90,
   "metadata": {},
   "outputs": [],
   "source": [
    "def dna_bp(seq):\n",
    "    #dictionary \n",
    "    conversion = {'A':'T',\n",
    "                  'T':'A',\n",
    "                  'C':'G',\n",
    "                  'G':'C'}\n",
    "\n",
    "    #for each item in seq, use dictionary above to grab oposite dna base. \n",
    "    dna2 = ''.join([conversion[character] for character in seq])\n",
    "    \n",
    "    return(dna2)"
   ]
  },
  {
   "cell_type": "code",
   "execution_count": 97,
   "metadata": {},
   "outputs": [],
   "source": [
    "#to do this in one line... although I think it is ugly\n",
    "def dna_bp(seq): return ''.join([{'A':'T','T':'A','C':'G','G':'C'}[character] for character in seq])"
   ]
  },
  {
   "cell_type": "markdown",
   "metadata": {},
   "source": [
    "The lines below give example inputs and correct outputs using asserts, and can be run to test the code. Passing these tests is **NOT** sufficient to guarantee your implementation is correct. You may add additional test cases, but do not remove any tests."
   ]
  },
  {
   "cell_type": "code",
   "execution_count": 98,
   "metadata": {},
   "outputs": [
    {
     "name": "stdout",
     "output_type": "stream",
     "text": [
      "Asserts Completed Successfully\n"
     ]
    }
   ],
   "source": [
    "assert(dna_bp('ATCGATTGAGCTCTAGCG') == 'TAGCTAACTCGAGATCGC')\n",
    "print(\"Asserts Completed Successfully\")"
   ]
  },
  {
   "cell_type": "markdown",
   "metadata": {},
   "source": [
    "## Extra Credit (2 points)\n",
    "\n",
    "Given a sequence of the DNA bases {A, C, G, T}, stored as a string, returns a conditional probability table in a data structure such that one base (b1) can be looked up, and then a second (b2), to get the probability p(b2 | b1) of the second base occurring immediately after the first. (Assumes the length of seq is >= 3, and that the probability of any b1 and b2 which have never been seen together is 0. Ignores the probability that b1 will be followed by the end of the string character.)\n",
    "\n",
    "Here is an example:\n",
    "```\n",
    "GAAAGG\n",
    "```\n",
    "\n",
    "P(A | G) = probability of A given the letter G occured directly before it = 1/2 = 0.5. The denominator is 2 instead of 3 because the last G does not have a letter after it. The denominator should be the number of times a letter appears with annother letter directly after it.\n",
    "\n",
    "P( G | G ) = probability of G given the letter G occured directly before it = 1/2 = 0.5\n",
    "\n",
    "P(G | A) = probability of G given the letter A occured directly before it = 1/3 = 0.33\n",
    "\n",
    "P(A | A) = probability of A given the letter A occured directly before it = 2/3 = .66\n",
    "\n",
    "The dictionary returned by dna_prob2 should be:\n",
    "\n",
    "```\n",
    "{'A': {'A': 2/3, 'G': 1/3, 'T': 0, 'C': 0}, 'G': {'A': 1/2, 'G': 1/2, 'T': 0, 'C': 0}, 'T': {'A': 0, 'T': 0, 'G': 0, 'C': 0}, 'C': {'A': 0, 'G': 0, 'T': 0, 'C': 0}}\n",
    "```\n",
    "\n",
    "Notice this is a \"nested\" dictionary, where the value of the outer dictionary is also a dictionary. All of the keys are strings.\n",
    "\n",
    "**Note**: 2 extra points adds 20% to your final homework grade. This can improve your grade substantially. So, I recommend working on this, if you are worried about the quizzes and Midterm."
   ]
  },
  {
   "cell_type": "code",
   "execution_count": 263,
   "metadata": {},
   "outputs": [],
   "source": [
    "def dna_prob2(seq):\n",
    "    dnaDict = {'A': {'A': 0, 'G': 0, 'T': 0, 'C': 0},\n",
    "                 'G': {'A': 0, 'G': 0, 'T': 0, 'C': 0},\n",
    "                 'T': {'A': 0, 'T': 0, 'G': 0, 'C': 0},\n",
    "                 'C': {'A': 0, 'G': 0, 'T': 0, 'C': 0}}\n",
    "    indexer = 0\n",
    "    \n",
    "    while indexer < len(seq):\n",
    "        # looks at all the adjacent pairs in our code.\n",
    "        lil_list = [char for char in seq[indexer:indexer+2]]\n",
    "        indexer+=1\n",
    "\n",
    "        # don't run function at the end of the line. bc only 1 item in list\n",
    "        if len(lil_list) != 2:\n",
    "            break\n",
    "            \n",
    "        else:\n",
    "            procedes = lil_list[0]\n",
    "            prob_of = lil_list[1]\n",
    "            dnaDict[prob_of][procedes] +=1\n",
    "#     print('counts_dictionary:',dnaDict)\n",
    "    \n",
    "    # turn those counts into probabilties.\n",
    "    for bigkey in dnaDict:\n",
    "        \n",
    "        # the total number of A,G,T, or C respectivley  \n",
    "        total = sum(dnaDict[bigkey].values())\n",
    "        \n",
    "        for smallkey in dnaDict[bigkey]:\n",
    "            # the proceding of A,G,T, or Cs\n",
    "            count = dnaDict[bigkey][smallkey]\n",
    "            \n",
    "            #can't divide by zero!\n",
    "            if total > 0:\n",
    "                #update that slot to be the ratio rather than count\n",
    "                dnaDict[bigkey][smallkey] = count/total\n",
    "                      \n",
    "    return dnaDict"
   ]
  },
  {
   "cell_type": "code",
   "execution_count": 262,
   "metadata": {},
   "outputs": [
    {
     "name": "stdout",
     "output_type": "stream",
     "text": [
      "counts_dictionary: {'A': {'A': 2, 'G': 1, 'T': 0, 'C': 0}, 'G': {'A': 1, 'G': 1, 'T': 0, 'C': 0}, 'T': {'A': 0, 'T': 0, 'G': 0, 'C': 0}, 'C': {'A': 0, 'G': 0, 'T': 0, 'C': 0}}\n"
     ]
    },
    {
     "data": {
      "text/plain": [
       "{'A': {'A': 0.6666666666666666, 'G': 0.3333333333333333, 'T': 0.0, 'C': 0.0},\n",
       " 'G': {'A': 0.5, 'G': 0.5, 'T': 0.0, 'C': 0.0},\n",
       " 'T': {'A': 0, 'T': 0, 'G': 0, 'C': 0},\n",
       " 'C': {'A': 0, 'G': 0, 'T': 0, 'C': 0}}"
      ]
     },
     "execution_count": 262,
     "metadata": {},
     "output_type": "execute_result"
    }
   ],
   "source": [
    "dna_prob2('GAAAGG')"
   ]
  },
  {
   "cell_type": "code",
   "execution_count": 259,
   "metadata": {},
   "outputs": [
    {
     "name": "stdout",
     "output_type": "stream",
     "text": [
      "counts_dictionary: {'A': {'A': 0, 'G': 2, 'T': 1, 'C': 0}, 'G': {'A': 2, 'G': 0, 'T': 1, 'C': 2}, 'T': {'A': 2, 'T': 1, 'G': 0, 'C': 2}, 'C': {'A': 0, 'G': 2, 'T': 2, 'C': 0}}\n"
     ]
    },
    {
     "data": {
      "text/plain": [
       "{'A': 0.4, 'G': 0.0, 'T': 0.2, 'C': 0.4}"
      ]
     },
     "execution_count": 259,
     "metadata": {},
     "output_type": "execute_result"
    }
   ],
   "source": [
    "seq = 'ATCGATTGAGCTCTAGCG'\n",
    "dna_prob2(seq)['G']"
   ]
  },
  {
   "cell_type": "markdown",
   "metadata": {},
   "source": [
    "The lines below give example inputs and correct outputs using asserts, and can be run to test the code. Passing these tests is **NOT** sufficient to guarantee your implementation is correct. You may add additional test cases, but do not remove any tests."
   ]
  },
  {
   "cell_type": "code",
   "execution_count": 264,
   "metadata": {},
   "outputs": [
    {
     "name": "stdout",
     "output_type": "stream",
     "text": [
      "counts_dictionary: {'A': {'A': 0, 'G': 2, 'T': 1, 'C': 0}, 'G': {'A': 2, 'G': 0, 'T': 1, 'C': 2}, 'T': {'A': 2, 'T': 1, 'G': 0, 'C': 2}, 'C': {'A': 0, 'G': 2, 'T': 2, 'C': 0}}\n"
     ]
    },
    {
     "ename": "AssertionError",
     "evalue": "",
     "output_type": "error",
     "traceback": [
      "\u001b[1;31m---------------------------------------------------------------------------\u001b[0m",
      "\u001b[1;31mAssertionError\u001b[0m                            Traceback (most recent call last)",
      "Input \u001b[1;32mIn [264]\u001b[0m, in \u001b[0;36m<cell line: 3>\u001b[1;34m()\u001b[0m\n\u001b[0;32m      1\u001b[0m tbl \u001b[38;5;241m=\u001b[39m dna_prob2(\u001b[38;5;124m'\u001b[39m\u001b[38;5;124mATCGATTGAGCTCTAGCG\u001b[39m\u001b[38;5;124m'\u001b[39m)\n\u001b[0;32m      2\u001b[0m \u001b[38;5;28;01massert\u001b[39;00m(tbl[\u001b[38;5;124m'\u001b[39m\u001b[38;5;124mT\u001b[39m\u001b[38;5;124m'\u001b[39m][\u001b[38;5;124m'\u001b[39m\u001b[38;5;124mT\u001b[39m\u001b[38;5;124m'\u001b[39m] \u001b[38;5;241m==\u001b[39m \u001b[38;5;241m0.2\u001b[39m)\n\u001b[1;32m----> 3\u001b[0m \u001b[38;5;28;01massert\u001b[39;00m(tbl[\u001b[38;5;124m'\u001b[39m\u001b[38;5;124mG\u001b[39m\u001b[38;5;124m'\u001b[39m][\u001b[38;5;124m'\u001b[39m\u001b[38;5;124mA\u001b[39m\u001b[38;5;124m'\u001b[39m] \u001b[38;5;241m==\u001b[39m \u001b[38;5;241m0.5\u001b[39m)\n\u001b[0;32m      4\u001b[0m \u001b[38;5;28;01massert\u001b[39;00m(tbl[\u001b[38;5;124m'\u001b[39m\u001b[38;5;124mC\u001b[39m\u001b[38;5;124m'\u001b[39m][\u001b[38;5;124m'\u001b[39m\u001b[38;5;124mG\u001b[39m\u001b[38;5;124m'\u001b[39m] \u001b[38;5;241m==\u001b[39m \u001b[38;5;241m0.5\u001b[39m)\n\u001b[0;32m      5\u001b[0m \u001b[38;5;28mprint\u001b[39m(\u001b[38;5;124m\"\u001b[39m\u001b[38;5;124mAsserts Completed Successfully\u001b[39m\u001b[38;5;124m\"\u001b[39m)\n",
      "\u001b[1;31mAssertionError\u001b[0m: "
     ]
    }
   ],
   "source": [
    "tbl = dna_prob2('ATCGATTGAGCTCTAGCG')\n",
    "assert(tbl['T']['T'] == 0.2)\n",
    "assert(tbl['G']['A'] == 0.5)\n",
    "assert(tbl['C']['G'] == 0.5)\n",
    "print(\"Asserts Completed Successfully\")"
   ]
  }
 ],
 "metadata": {
  "hide_input": false,
  "kernelspec": {
   "display_name": "Python 3 (ipykernel)",
   "language": "python",
   "name": "python3"
  },
  "language_info": {
   "codemirror_mode": {
    "name": "ipython",
    "version": 3
   },
   "file_extension": ".py",
   "mimetype": "text/x-python",
   "name": "python",
   "nbconvert_exporter": "python",
   "pygments_lexer": "ipython3",
   "version": "3.9.12"
  }
 },
 "nbformat": 4,
 "nbformat_minor": 4
}
