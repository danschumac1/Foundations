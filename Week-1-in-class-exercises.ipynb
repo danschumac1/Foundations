{
 "cells": [
  {
   "cell_type": "markdown",
   "id": "bd0bea9b-560f-48ba-9c4f-9584054674a8",
   "metadata": {},
   "source": [
    "# NOTES"
   ]
  },
  {
   "cell_type": "code",
   "execution_count": 1,
   "id": "69d58944-ec57-4b1c-8618-c4b263087c16",
   "metadata": {},
   "outputs": [
    {
     "name": "stdout",
     "output_type": "stream",
     "text": [
      "<class 'int'>\n",
      "<class 'float'>\n"
     ]
    }
   ],
   "source": [
    "# Data types\n",
    "\n",
    "## Integers\n",
    "a = 42\n",
    "print(type(a))\n",
    "\n",
    "## Floats\n",
    "b = 42.1\n",
    "print(type(b))"
   ]
  },
  {
   "cell_type": "code",
   "execution_count": 12,
   "id": "9effb04a-a0f9-4db3-941f-b3c48e0da0e3",
   "metadata": {},
   "outputs": [
    {
     "name": "stdout",
     "output_type": "stream",
     "text": [
      "var: 42.10 1.3463 2\n",
      "var: 1.35 2.0909 42.1\n",
      "42.1 2.0909 1.34634638746 Here are my vars\n",
      "42.10 2.0909 1.34634638746 Here are my vars\n",
      "20.13 2.0909 1.34634638746 Here are my vars\n"
     ]
    }
   ],
   "source": [
    "# Print Statements\n",
    "\n",
    "var1 = 42.1\n",
    "var2 = 1.34634638746\n",
    "var3 = 2.0909\n",
    "#old way\n",
    "print(\"var: {:.2f} {:.4f} {:.0f}\".format(var1,var2,var3))\n",
    "#can specify index (can still format floats)\n",
    "print(\"var: {1:.2f} {2} {0}\".format(var1,var2,var3))\n",
    "\n",
    "\n",
    "#format strings (f-strings)\n",
    "print(f'{var1} {var3} {var2} Here are my vars')\n",
    "#of course you can still format strings\n",
    "print(f'{var1:.2f} {var3} {var2} Here are my vars')\n",
    "#can do functions inside each uniquely\n",
    "print(f'{var1/var3:.2f} {var3} {var2} Here are my vars')\n"
   ]
  },
  {
   "cell_type": "code",
   "execution_count": 16,
   "id": "60043e24-e946-49d7-a89c-eb0891c823a1",
   "metadata": {},
   "outputs": [
    {
     "name": "stdout",
     "output_type": "stream",
     "text": [
      "True\n",
      "False\n"
     ]
    }
   ],
   "source": [
    "# Boolean expressions\n",
    "\n",
    "## ------Bool values\n",
    "# True\n",
    "# False\n",
    "\n",
    "a = True\n",
    "type(a)\n",
    "\n",
    "## ----- Bool operators\n",
    "# or\n",
    "# and\n",
    "# not\n",
    "# ==\n",
    "# !=\n",
    "# >= , >\n",
    "# <=, <\n",
    "num = 42\n",
    "print(num > 7)\n",
    "\n",
    "#is num greater than 7 and less than 10\n",
    "print(num >7 and num <10) #False and True"
   ]
  },
  {
   "cell_type": "code",
   "execution_count": 2,
   "id": "e82adb3f-7eb3-4611-8751-530490cb33be",
   "metadata": {},
   "outputs": [],
   "source": [
    "# If Statements"
   ]
  },
  {
   "cell_type": "code",
   "execution_count": 22,
   "id": "74b8514c-0514-4012-a604-b0812c3e77c1",
   "metadata": {},
   "outputs": [
    {
     "name": "stdout",
     "output_type": "stream",
     "text": [
      "['blah', 'blah']\n",
      "l\n",
      "True\n",
      "False\n",
      "False\n",
      "True\n",
      "ABC\n"
     ]
    }
   ],
   "source": [
    "# Strings\n",
    "\n",
    "myString = \"blah blah\"\n",
    "\n",
    "# Splitting a string\n",
    "print(myString.split())\n",
    "\n",
    "# Substrings\n",
    "print(myString[1])\n",
    "\n",
    "# Check if alpha\n",
    "newString = 'abc'\n",
    "print(newString.isalpha())\n",
    "# Check if numeric\n",
    "print(newString.isnumeric())\n",
    "\n",
    "# Check if upper/lower\n",
    "print(newString.isupper())\n",
    "print(newString.islower())\n",
    "\n",
    "# Convert to uppler/lower\n",
    "print(newString.upper())"
   ]
  },
  {
   "cell_type": "markdown",
   "id": "af66533c-08ff-41cd-b70e-c584e87bc9cf",
   "metadata": {},
   "source": [
    "# In Class Exercises\n",
    "\n",
    "We will work through a few more examples in class today which will be helpful for the homework and better understanding the concepts.\n",
    "\n",
    "Work in groups for the following exercises (2-4 people). Someone should be the designated \"driver\" by downloading the in-class lab assignment, sharing their screen, and help facilitating discussion among everyone on the team to solve the problem. You can choose who is the driver in your group among yourself. Also, we will work through one problem, then we will come back together and discuss before moving on to the next one."
   ]
  },
  {
   "cell_type": "markdown",
   "id": "2d1067e0-2d63-459f-b3aa-d4293ef08d7f",
   "metadata": {},
   "source": [
    "## Exercise 1 (10 minutes)\n",
    "\n",
    "Download the in-class lab notebook on Canvas. You can find it in the Week 2 folder.\n",
    "\n",
    "Write code to calculate and print the following formulas\n",
    "\n",
    "1. $y = x + 1$\n",
    "2. $y = 3x + 2x + x + 1$\n",
    "3. $y = 6x^2+3x+2$\n",
    "4. $y = \\frac{1}{2} x^3$"
   ]
  },
  {
   "cell_type": "code",
   "execution_count": 29,
   "id": "18a0566f-ff75-4f08-86e5-7306b39d2df6",
   "metadata": {},
   "outputs": [
    {
     "name": "stdout",
     "output_type": "stream",
     "text": [
      "3\n",
      "13\n",
      "32\n",
      "4.0\n"
     ]
    }
   ],
   "source": [
    "x = 2 # You can try different x values.\n",
    "print(x+1)\n",
    "print(3*x+2*x + x+1)\n",
    "print(6*x**2 + 3*x + 2)\n",
    "print((1/2)*x**3)\n",
    "# Write code here"
   ]
  },
  {
   "cell_type": "markdown",
   "id": "2e6de8bb-dde0-4185-a108-842989a50b84",
   "metadata": {},
   "source": [
    "## Exercise 2 (10 minutes)\n",
    "\n",
    "Write code that will print \"U...T...S...A\" if the variable \"number\" is **greater** than 50 **and** even (e.g., 52). If the variable \"number\" is **less** than 50 **and** odd (e.g., 31), then print \"UTSA\". If the variable is less than 50 and even **or** greater than 50 and odd, then print \"San Anotnio\".\n",
    "\n",
    "Tip: You can change the value currently assigned to the variable number to check your code."
   ]
  },
  {
   "cell_type": "code",
   "execution_count": 30,
   "id": "e81819ac-55ff-4047-98c8-1d4fd163d460",
   "metadata": {},
   "outputs": [],
   "source": [
    "number = 32\n",
    "\n",
    "# If the variable \"number\" is greater than 50 and even print \"U...T...S...A\"\n",
    "if number > 50 and number%2 ==0:\n",
    "    print(\"U...T...S...A\")\n",
    "\n",
    "# If the variable \"number\" is less than 50 and odd (e.g., 31), then print \"UTSA\"\n",
    "elif number <50 and number%2 == 1:\n",
    "    print(\"UTSA\")\n",
    "\n",
    "# If the variable is less than 50 and even or greater than 50 and odd, then print \"San Anotnio\"\n",
    "elif (number <50 and number%2 == 0) or (number > 50 and number%2 == 1):\n",
    "    print('San Antonio')\n",
    "\n"
   ]
  },
  {
   "cell_type": "markdown",
   "id": "fa957892-d5c1-496f-9bf4-824597e7930f",
   "metadata": {},
   "source": [
    "## Exercise 3 (15 minutes)\n",
    "\n",
    "Write code that prints \"That is an email!\" if the text in the variable \"email\" is formatted as a valid email, otherwise print \"Not an email!\"\n",
    "\n",
    "To simplify the task, we will only consider an email address valid if it matches the following rules:\n",
    "1. Everything before @ sign must be all alphabetic characters (i.e., numbers, special characters, and periods are not allowed)\n",
    "2. The domain address (e.g., \"gmail\" in \"gmail.com\") must be all alphabetic (i.e., a-z capital or lowercase) characters.\n",
    "3. The email must end with \".com\", \".net\", \".org\", or \".edu\"\n",
    "\n",
    "Tip: Start small, e.g., check there is an @ sign, then slowly add to your boolean expressions. Also, you can change the string currently assigned to the variable email to check your code."
   ]
  },
  {
   "cell_type": "code",
   "execution_count": 52,
   "id": "17e5f6e5-7207-4f8c-be16-4bf8049a4134",
   "metadata": {},
   "outputs": [
    {
     "name": "stdout",
     "output_type": "stream",
     "text": [
      "bad email\n"
     ]
    }
   ],
   "source": [
    "email = \"AnthonyRios@abc.com\"\n",
    "# Write code here\n",
    "rule1 = email.split('@')[0].isalpha()\n",
    "rule2 = email.split('@')[1].split('.')[0].isalpha()\n",
    "\n",
    "domain = email.split('@')[1].split('.')[1]\n",
    "\n",
    "if domain == 'com' or domain == 'net' or domain == 'org' or domain == 'edu':\n",
    "    rule3 = True\n",
    "else:\n",
    "    rule3 == False\n",
    "    \n",
    "if rule1 and rule2 and rule3:\n",
    "    print('Good email')\n",
    "else:\n",
    "    print('bad email')"
   ]
  },
  {
   "cell_type": "code",
   "execution_count": 51,
   "id": "13d58414-c82f-4068-935c-bf9c11c90f02",
   "metadata": {},
   "outputs": [
    {
     "data": {
      "text/plain": [
       "'abc.com'"
      ]
     },
     "execution_count": 51,
     "metadata": {},
     "output_type": "execute_result"
    }
   ],
   "source": [
    "email.split('@')[1]"
   ]
  },
  {
   "cell_type": "code",
   "execution_count": 39,
   "id": "0d640ab1-6997-4488-b59b-2d0901416eac",
   "metadata": {},
   "outputs": [
    {
     "data": {
      "text/plain": [
       "'abc'"
      ]
     },
     "execution_count": 39,
     "metadata": {},
     "output_type": "execute_result"
    }
   ],
   "source": [
    "email.split('@')[1].split('.')[0]"
   ]
  }
 ],
 "metadata": {
  "kernelspec": {
   "display_name": "Python 3 (ipykernel)",
   "language": "python",
   "name": "python3"
  },
  "language_info": {
   "codemirror_mode": {
    "name": "ipython",
    "version": 3
   },
   "file_extension": ".py",
   "mimetype": "text/x-python",
   "name": "python",
   "nbconvert_exporter": "python",
   "pygments_lexer": "ipython3",
   "version": "3.9.12"
  }
 },
 "nbformat": 4,
 "nbformat_minor": 5
}
